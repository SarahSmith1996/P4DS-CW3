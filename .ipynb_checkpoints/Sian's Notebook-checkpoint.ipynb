{
 "cells": [
  {
   "cell_type": "code",
   "execution_count": 2,
   "metadata": {},
   "outputs": [],
   "source": [
    "import pandas  ## This is the module for creating and manipulating DataFrames\n",
    "\n",
    "Data_DF = pandas.read_csv(\"data.csv\")"
   ]
  },
  {
   "cell_type": "code",
   "execution_count": 3,
   "metadata": {},
   "outputs": [
    {
     "data": {
      "text/plain": [
       "Index(['valence', 'year', 'acousticness', 'artists', 'danceability',\n",
       "       'duration_ms', 'energy', 'explicit', 'id', 'instrumentalness', 'key',\n",
       "       'liveness', 'loudness', 'mode', 'name', 'popularity', 'release_date',\n",
       "       'speechiness', 'tempo'],\n",
       "      dtype='object')"
      ]
     },
     "execution_count": 3,
     "metadata": {},
     "output_type": "execute_result"
    }
   ],
   "source": [
    "Data_DF.columns"
   ]
  },
  {
   "cell_type": "markdown",
   "metadata": {},
   "source": [
    "In this document there will be multiple functions, each of which will take in a data frame and return a sorted data frame"
   ]
  },
  {
   "cell_type": "markdown",
   "metadata": {},
   "source": [
    "The following function takes in a database and one of the column titles (as a string) and returns the same database sorted with the relevant feature."
   ]
  },
  {
   "cell_type": "code",
   "execution_count": 4,
   "metadata": {},
   "outputs": [],
   "source": [
    "def sort_bts_data(DF_DF, feature):\n",
    "    Database_DF = DF_DF.sort_values(by=[feature], ascending=False)\n",
    "    return Database_DF\n",
    "\n",
    "def sort_stb_data(DF_DF, feature):\n",
    "    Database_DF = DF_DF.sort_values(by=[feature], ascending=True)\n",
    "    return Database_DF\n",
    "\n",
    "#sort_stb_data(Data_DF, \"energy\")"
   ]
  },
  {
   "cell_type": "markdown",
   "metadata": {},
   "source": [
    "The following function takes in a database, a column title (as a string) and two float numbers. The function returns the section of the original database that has the column value between the two numbers."
   ]
  },
  {
   "cell_type": "code",
   "execution_count": 5,
   "metadata": {},
   "outputs": [],
   "source": [
    "def limit_data(DF_DF, feature, float1, float2):\n",
    "    filter_DF = DF_DF[DF_DF[feature] >= float1]\n",
    "    refilter_DF = DF_DF[DF_DF[feature] <= float2]\n",
    "    return refilter_DF\n",
    "\n",
    "#limit_data(Data_DF, \"energy\", 0.1, 0.3)"
   ]
  },
  {
   "cell_type": "markdown",
   "metadata": {},
   "source": [
    "The function below takes in a database, function and float number and returns the database ordered by closest to that value."
   ]
  },
  {
   "cell_type": "code",
   "execution_count": 17,
   "metadata": {},
   "outputs": [],
   "source": [
    "def single_order_data(DF_DF, feature, float1):\n",
    "    #Want here a database that is the same length as original, but that is ordered by how close the songs feature value is to \n",
    "    #float1\n",
    "    difference = []\n",
    "    for i, row in DF_DF.iterrows():\n",
    "        difference.append(abs(row[feature] - float1))\n",
    "    DF_DF['difference'] = difference\n",
    "    New_DF = DF_DF.sort_values(by=['difference'], ascending = True)\n",
    "    del New_DF['difference'] \n",
    "    return New_DF\n",
    "\n",
    "#single_order_data(Data_DF, \"energy\", 0.4)"
   ]
  },
  {
   "cell_type": "code",
   "execution_count": null,
   "metadata": {},
   "outputs": [],
   "source": []
  }
 ],
 "metadata": {
  "kernelspec": {
   "display_name": "Python 3",
   "language": "python",
   "name": "python3"
  },
  "language_info": {
   "codemirror_mode": {
    "name": "ipython",
    "version": 3
   },
   "file_extension": ".py",
   "mimetype": "text/x-python",
   "name": "python",
   "nbconvert_exporter": "python",
   "pygments_lexer": "ipython3",
   "version": "3.6.10"
  }
 },
 "nbformat": 4,
 "nbformat_minor": 4
}
