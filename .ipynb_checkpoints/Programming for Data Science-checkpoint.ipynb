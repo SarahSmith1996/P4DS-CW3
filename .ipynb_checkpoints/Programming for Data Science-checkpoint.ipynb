{
 "cells": [
  {
   "cell_type": "markdown",
   "metadata": {},
   "source": [
    "## P4DS: Assignment 3 (Autumn 2020)\n",
    "\n",
    "# Data Analysis Project\n",
    "\n",
    "#### Notebook template design: Brandon Bennett (2020/11/3)\n",
    "\n",
    "# Spotify Playlist Curator\n",
    "\n",
    "\n",
    "### Project participants:\n",
    "\n",
    "* A. Sian Carey (mm16s4c@leeds.ac.uk)\n",
    "* B. Emma Briggs (scelb@leeds.ac.uk)\n",
    "* C. Sarah Smith (cm15sls@leeds.ac.uk)"
   ]
  },
  {
   "cell_type": "markdown",
   "metadata": {},
   "source": [
    "# Project Plan\n",
    "\n",
    "## The Data (10 marks)\n",
    "\n",
    "Our dataset is a Spotify dataset containing over 160,000 songs from 1921 to 2020. [Reference]\n",
    "For each song in the dataset there are nineteen different features, split into four groups by the type of value they contain. Four of the features are categorical, for example the name of the song and the artist. Two of the features are dummies, for example whether the song has explicit content. With this feature a song has a zero here if it does not contain explicit content and a one if it does contain explicit content. The third type contains only one feature that does not fit anywhere else, partly because this feature is how all the other features are recognised as belonging to the same song within Spotify’s database. This feature is the Spotify song ID. The final type is where the majority of the features are, these are all the features that take numerical inputs. There are a range of features in here, from track length measured in milliseconds to danceability. As are a few other features, the danceability of a sing is defined by Spotify as a number between zero and one, where zero is no danceability and one is lots of danceability. This number is made by considering a range of features in the music including the tempo (speed) of the music, the strength of the beat and how regular the song is. However, we do not have access to these features so will just be using their combination found under danceability. \n",
    "\n",
    "This data is fairly accurate. It has been collated from data available from Spotify developers, which is officially connected with the Spotify brand. Although it should be noted that due to the lengthy request process to see this data we cannot confirm that the data is the same as that take from Spotify developers. Another issue is that of Spotify itself, as our songs range from 1921 to 2020, however Spotify only started in 2008, which increases the chances of any songs from before 2008 having an incorrect year as there were not uploaded as they were released.\n",
    "\n",
    "NEED TO TALK ABOUT EMMA'S FILES\n",
    "\n",
    "\n",
    "\n",
    "\n",
    "## Project Aim and Objectives (5 marks)\n",
    "\n",
    "The overall aim of our project is to create An interactive program that allows users to search for Spotify songs, artists and genres by using certain features that are assigned to each song, such as how “dancey” they want the music to be or whether the song is explicit. Our project contains searching elements, where the inputted list of songs and related features is searched dependent on the user inputs and returns a list of songs and their artists that are within the boundaries requested by the user. It also contains some query representation, as a user can find genres they might enjoy, by inputting an artist they like. The final main element within our project is a visualisation aspect, users can see a graph outlining the energy, danceability and liveliness of the songs they have been returned. An aspect that we focus on throughout this project is ease of use, with clear and simple directions to the user that can be easily understood. It is also important that we have a robust user interface, so an incorrect input is highlighted, and the user is offered a search again instead of the system breaking. Whilst we will focus on a few user stories when reporting on our project it will also be useable for a much wider range of options.\n",
    "\n",
    "### Specific Objective(s)\n",
    "\n",
    "_You should chose and list __up to 3__ specific objectives. \n",
    "There should be <b>at least one\n",
    "per person doing the project</b>. There is no need\n",
    "for  the objectives them to be completely different. \n",
    "They could be different\n",
    "stages of the processing requirements, or different processing\n",
    "functions that the system  provides. Or just\n",
    "different aspects of data analysis that will be conducted.\n",
    "Typically, it is expected that there would be one objective\n",
    "per person, but you may do more._\n",
    "\n",
    "* __Objective 1:__ _Create a playlist that allows users to pick a feature and value they wish that feature to have within their returned playlist. Furthermore, allow them to remove explicit songs if required._\n",
    "* __Objective 2:__ _Using pandas dataframe, recommend a list of genres with similar characteristics to a genre chosen by the user. Additionally, recommend a list of genres based on the user’s chosen artist._\n",
    "* __Objective 3:__ _Improve the user experience and user input validation._\n",
    "\n",
    "## System Design (5 marks)\n",
    "\n",
    "_Describe your code in terms of the\n",
    "following two sections._\n",
    "\n",
    "### Architecture\n",
    "\n",
    "The relevant csv files are loaded into dataframes. For the playlist curation \"data.csv\" serves as the database and is loaded into the Data_DF dataframe. The dataframe is sorted based on various \"features\" suach as: valence', 'acousticness', 'danceability', 'energy', 'instrumentalness', 'liveness', 'loudness', 'popularity', 'speechiness'or 'tempo' and to what value the user wants the feature to have (e.g., 40% energy). The user inputs the number of songs the want and if they would like to exclude explicit songs. The dataframe is then filtered and prints out the requested number of songs and their artists before the program terminates. \n",
    "  \n",
    "### Processing Modules and Algorithms\n",
    "\n",
    "_Briefly list and describe the most significant computational components of your system and the algorithms you will use to implement them. \n",
    "This could include things like:_\n",
    "\n",
    "* _cleaning the data by removing outliers_\n",
    "* _combining different datasets_\n",
    "* _converting samples to a special representaion (such as feature vectors)_\n",
    "* _constructing a special data-structure (such as a decision tree)_\n",
    "* _running some kind of analysis_\n",
    "\n",
    "_Your list can be presented in similar form to the one just given, \n",
    "but should include a brief\n",
    "but more specific description of the components and/or algorithms.\n",
    "Probably three or four components is sufficient for most projects, but\n",
    "you may want to have more._"
   ]
  },
  {
   "cell_type": "markdown",
   "metadata": {},
   "source": [
    "# Program Code (15 marks)\n"
   ]
  },
  {
   "cell_type": "markdown",
   "metadata": {},
   "source": [
    "## Import Modules"
   ]
  },
  {
   "cell_type": "code",
   "execution_count": 1,
   "metadata": {},
   "outputs": [],
   "source": [
    "import warnings            \n",
    "import pandas\n",
    "from pandas.core.common import SettingWithCopyWarning\n",
    "warnings.simplefilter(action=\"ignore\", category=SettingWithCopyWarning)\n",
    "\n",
    "import math\n",
    "import matplotlib.pyplot as plt\n",
    "import numpy as np"
   ]
  },
  {
   "cell_type": "markdown",
   "metadata": {},
   "source": [
    "**get_csv_data** – Takes the location of a csv file and returns a dataframe of the csv file."
   ]
  },
  {
   "cell_type": "code",
   "execution_count": 2,
   "metadata": {},
   "outputs": [],
   "source": [
    "def get_csv_data(location):\n",
    "    df = pandas.read_csv(location)\n",
    "    return df"
   ]
  },
  {
   "cell_type": "markdown",
   "metadata": {},
   "source": [
    "## Curate a Playlist"
   ]
  },
  {
   "cell_type": "markdown",
   "metadata": {},
   "source": [
    "### Configuration Variables"
   ]
  },
  {
   "cell_type": "code",
   "execution_count": 14,
   "metadata": {},
   "outputs": [],
   "source": [
    "#Define Dataframe.\n",
    "Data_DF = get_csv_data('data.csv')\n",
    "#Define list of possible features.\n",
    "features_lst = ['valence', 'acousticness', 'danceability', 'energy', 'instrumentalness', 'liveness', 'loudness', 'popularity', 'speechiness', 'tempo']\n",
    "#Find total number of explicit song in the dataframe.\n",
    "num_explicit = len(Data_DF[Data_DF['explicit'] !=0])"
   ]
  },
  {
   "cell_type": "markdown",
   "metadata": {},
   "source": [
    "## Functions"
   ]
  },
  {
   "cell_type": "markdown",
   "metadata": {},
   "source": [
    "**validate_user_input** – Takes a string (feature) and returns a float (feature_weight) which is the fraction/level of the requested feature. The functions ensures only the intended user input is accepted.  "
   ]
  },
  {
   "cell_type": "code",
   "execution_count": 15,
   "metadata": {},
   "outputs": [],
   "source": [
    "def validate_user_input(feature):\n",
    "    \n",
    "    while True:\n",
    "        try: \n",
    "            response = input(\"Please enter a whole number between 0 and 10 to indicate the level of {} in your playlist.\\n \\n0 = Minimum {} \\n10 = Maximum {} \\n \\nPlease enter a whole number between 0 and 10: \".format(feature,feature,feature))\n",
    "            print()\n",
    "                                   \n",
    "            if response not in ['0','1','2','3','4', '5', '6','7','8','9','10']:\n",
    "                print(\"{} is not a whole number between 0 and 10! \\nPlease input a whole number between 0 and 10!\\n\".format(response))\n",
    "                continue\n",
    "            break\n",
    "        except ValueError:\n",
    "            print(\"{} is not a whole number between 0 and 10! \\nPlease input a whole number between 0 and 10!\\n\".format(response))\n",
    "    \n",
    "    print(\"You've selected {} out of 10, for {}.\\n\".format(response, feature))\n",
    "    feature_weight = int(response)/10\n",
    "    \n",
    "    return feature_weight"
   ]
  },
  {
   "cell_type": "markdown",
   "metadata": {},
   "source": [
    "**validate_selected_features** – Takes a string (feature) and returns a list (selected_features_lst). This function validates the user's selection and curates a list of all of the features the user selected."
   ]
  },
  {
   "cell_type": "code",
   "execution_count": 35,
   "metadata": {},
   "outputs": [],
   "source": [
    "def validate_selected_features(features):\n",
    "    selected_features = list()\n",
    "    \n",
    "    while True:\n",
    "        try: \n",
    "            response = input(\"Please select which feature you'd like to base your playlist suggestion on.\\nIf you would like to select multiple features, please select the most important one first. Thank you.\\n\\\n",
    "                             \\n1 = {} \\n2 = {} \\n3 = {} \\n4 = {} \\n5 = {} \\n6 = {} \\n7 = {} \\n8 = {} \\n9 = {} \\n10 = {} \\n\\nPlease enter one of the numbers shown above: \".format(features[0],features[1],features[2],features[3],features[4],features[5],features[6],features[7],features[8],features[9]))\n",
    "            print()\n",
    "                                   \n",
    "            if response not in ['1','2','3','4', '5', '6','7','8','9','10']:\n",
    "                print(\"{} is not an option! \\nPlease input a whole number between 1 and 10!\".format(response))\n",
    "                continue\n",
    "            selected_features.append(features[int(response)-1])\n",
    "            print(\"You've selected {}.\".format(features[int(response)-1]))\n",
    "            print()\n",
    "            while True:\n",
    "                try:\n",
    "                    again = input(\"Would you like to select another feature? \\nPlease enter yes or no: \")\n",
    "                    print()\n",
    "                    \n",
    "                    if again.lower() not in ['yes', 'no']:\n",
    "                        print(\"{} is not an option! \\nPlease answer with yes or no.\\n\".format(again))\n",
    "                        continue\n",
    "                    break\n",
    "                except ValueError:\n",
    "                    print(\"{} is not an option! \\nPlease answer with yes or no.\".format(again))\n",
    "            if again.lower() == 'no':\n",
    "                break\n",
    "            else:\n",
    "                continue\n",
    "        except ValueError:\n",
    "            print(\"{} is not an option! \\nPlease input a whole number between 1 and 10!\".format(response))\n",
    "    \n",
    "    print(\"Thank you. \\n\\nYou've selected:\\n\")\n",
    "    print()\n",
    "    \n",
    "    selected_features_lst = list(dict.fromkeys(selected_features))\n",
    "    for i in selected_features_lst:\n",
    "        print(i)\n",
    "    \n",
    "    print()\n",
    "    return selected_features_lst"
   ]
  },
  {
   "cell_type": "markdown",
   "metadata": {},
   "source": [
    "**get_selected_feature_value** – Takes dataframe (df), string columnname (feature) and float (percent) value between 0 and 1 representing percent. Returns the selected percentage value of the feature e.g., 40% of 30000 where 40% is represented as 0.4."
   ]
  },
  {
   "cell_type": "code",
   "execution_count": 17,
   "metadata": {},
   "outputs": [],
   "source": [
    "def get_selected_feature_value(df, feature, percent):\n",
    "    min_val = df[[feature]].min().item()\n",
    "    max_val = df[[feature]].max().item()\n",
    "   \n",
    "    total = max_val - min_val\n",
    "    feature_percent = total*percent\n",
    "   \n",
    "    feature_value = feature_percent+min_val\n",
    "    \n",
    "    return feature_value"
   ]
  },
  {
   "cell_type": "markdown",
   "metadata": {},
   "source": [
    "**find_value_difference** – Takes dataframe (df), string columnname (feature) and float (value). Returns a dataframe, sorted by the difference between the float (value) and the numeric value of feature for each possible song in the dataframe."
   ]
  },
  {
   "cell_type": "code",
   "execution_count": 18,
   "metadata": {},
   "outputs": [],
   "source": [
    "def find_value_difference(df, feature, value):\n",
    "    difference = []\n",
    "    for i, row in df.iterrows():\n",
    "        difference.append(abs(row[feature] - value))\n",
    "    df['difference'] = difference\n",
    "    sorted_df = df.sort_values(by=['difference'], ascending = True)\n",
    "    del sorted_df['difference']\n",
    "    \n",
    "    return sorted_df"
   ]
  },
  {
   "cell_type": "markdown",
   "metadata": {},
   "source": [
    "**return_songs_artist** – Takes a dataframe (df) prints out each song and it's artists in the dataframe."
   ]
  },
  {
   "cell_type": "code",
   "execution_count": 19,
   "metadata": {},
   "outputs": [],
   "source": [
    "def return_songs_artist(df):\n",
    "    name_list = df['name'].values.tolist()\n",
    "    artist_list = df['artists'].values.tolist()\n",
    "  \n",
    "    remove_char_lst = [\"[\", \"]\", \"'\"]\n",
    "    print('–––––––––––––––––––––––––––––––––––––––––––––––––––––––––––––––––––––––––––––––––––––––––––––')\n",
    "    for i in range(len(name_list)):\n",
    "        artist_str = artist_list[i]\n",
    "        song_str = name_list[i]\n",
    "        for char in remove_char_lst:\n",
    "            artist_str = artist_str.replace(char, \"\")\n",
    "            song_str = song_str.replace(char, \"\")\n",
    "        artists = artist_str.split(\", \")\n",
    "        print(song_str, end = '\\n')\n",
    "        print()\n",
    "        print('By:')\n",
    "       \n",
    "        for j in range(len(artists)):\n",
    "            print(artists[j])\n",
    "        print()\n",
    "        print('–––––––––––––––––––––––––––––––––––––––––––––––––––––––––––––––––––––––––––––––––––––––––––––')"
   ]
  },
  {
   "cell_type": "markdown",
   "metadata": {},
   "source": [
    "**validate_num_songs** – Validates user input for the number of songs they would like to be recommended. The function ensures the input is a whole non negative number and no greater than the total possible number of songs in our csv file \"data.csv\"."
   ]
  },
  {
   "cell_type": "code",
   "execution_count": 20,
   "metadata": {},
   "outputs": [],
   "source": [
    "def validate_num_songs():\n",
    "    while True:\n",
    "        try:\n",
    "            value = input(\"Please enter the number of songs you would like with no spaces, periods or commas.\\n\\nPlease enter a number: \")\n",
    "            print()\n",
    "            \n",
    "            if not isinstance(int(value), int):\n",
    "                print(\"{} is not a whole number! \\nPlease input an interger!\\n\".format(value))\n",
    "                continue\n",
    "            if int(value) < 0:\n",
    "                print(\"{} is a negative number! \\nPlease enter a positive number!\\n\".format(value))\n",
    "                continue\n",
    "            if int(value) == 0:\n",
    "                print(\"{} is not an option! \\nPlease a number greater than 1!\\n\".format(value))\n",
    "                continue\n",
    "            if int(value) > 170654:\n",
    "                print(\"{} is too big! There are a maximum of 170,654 songs in our database.\".format(value))\n",
    "                continue\n",
    "            break\n",
    "        except ValueError:\n",
    "            print(\"{} is not a number! \\nPlease input a whole number!\\n\".format(value))\n",
    "    \n",
    "    num_songs = int(value)\n",
    "    if num_songs == 1:\n",
    "        print(\"You've requested {} song.\\n\".format(value))\n",
    "        return num_songs\n",
    "    else:\n",
    "        print(\"You've requested {} songs.\\n\".format(value))\n",
    "        return num_songs"
   ]
  },
  {
   "cell_type": "markdown",
   "metadata": {},
   "source": [
    "**validate_explicit** – Validates user's input to either be 'yes'/'Yes' or 'no'/'No'. "
   ]
  },
  {
   "cell_type": "code",
   "execution_count": 37,
   "metadata": {},
   "outputs": [],
   "source": [
    "def validate_explicit():\n",
    "    \n",
    "    while True:\n",
    "        try:\n",
    "            ans = input(\"Would you like to exclude explicit songs? Please be aware that ansering yes may result in less song suggestions than requested.\\n Please enter yes or no: \")\n",
    "            print()\n",
    "            if ans.lower() not in ['yes', 'no']:\n",
    "                print(\"{} is not an option!\\nPlease answer with yes or no.\\n\".format(ans))\n",
    "                continue\n",
    "            break\n",
    "        except ValueError:\n",
    "            print(\"{} is not an option!\\nPlease answer with yes or no.\".format(ans))\n",
    "    \n",
    "    if ans.lower() == 'yes':\n",
    "        return True\n",
    "    else:\n",
    "        return False"
   ]
  },
  {
   "cell_type": "markdown",
   "metadata": {},
   "source": [
    "### Curate a Playlist"
   ]
  },
  {
   "cell_type": "markdown",
   "metadata": {},
   "source": [
    "## Main"
   ]
  },
  {
   "cell_type": "markdown",
   "metadata": {},
   "source": [
    "Here The above functions are called to make a recommended playlist for the user. Try it out! :)"
   ]
  },
  {
   "cell_type": "code",
   "execution_count": 38,
   "metadata": {},
   "outputs": [
    {
     "name": "stdout",
     "output_type": "stream",
     "text": [
      "Please select which feature you'd like to base your playlist suggestion on.\n",
      "If you would like to select multiple features, please select the most important one first. Thank you.\n",
      "                             \n",
      "1 = valence \n",
      "2 = acousticness \n",
      "3 = danceability \n",
      "4 = energy \n",
      "5 = instrumentalness \n",
      "6 = liveness \n",
      "7 = loudness \n",
      "8 = popularity \n",
      "9 = speechiness \n",
      "10 = tempo \n",
      "\n",
      "Please enter one of the numbers shown above: energy\n",
      "\n",
      "energy is not an option! \n",
      "Please input a whole number between 1 and 10!\n",
      "Please select which feature you'd like to base your playlist suggestion on.\n",
      "If you would like to select multiple features, please select the most important one first. Thank you.\n",
      "                             \n",
      "1 = valence \n",
      "2 = acousticness \n",
      "3 = danceability \n",
      "4 = energy \n",
      "5 = instrumentalness \n",
      "6 = liveness \n",
      "7 = loudness \n",
      "8 = popularity \n",
      "9 = speechiness \n",
      "10 = tempo \n",
      "\n",
      "Please enter one of the numbers shown above: 4.\n",
      "\n",
      "4. is not an option! \n",
      "Please input a whole number between 1 and 10!\n",
      "Please select which feature you'd like to base your playlist suggestion on.\n",
      "If you would like to select multiple features, please select the most important one first. Thank you.\n",
      "                             \n",
      "1 = valence \n",
      "2 = acousticness \n",
      "3 = danceability \n",
      "4 = energy \n",
      "5 = instrumentalness \n",
      "6 = liveness \n",
      "7 = loudness \n",
      "8 = popularity \n",
      "9 = speechiness \n",
      "10 = tempo \n",
      "\n",
      "Please enter one of the numbers shown above: 4\n",
      "\n",
      "You've selected energy.\n",
      "\n",
      "Would you like to select another feature? \n",
      "Please enter yes or no: no\n",
      "\n",
      "Thank you. \n",
      "\n",
      "You've selected:\n",
      "\n",
      "\n",
      "energy\n",
      "\n",
      "Please enter the number of songs you would like with no spaces, periods or commas.\n",
      "\n",
      "Please enter a number: 1\n",
      "\n",
      "You've requested 1 song.\n",
      "\n",
      "Would you like to exclude explicit songs? Please be aware that ansering yes may result in less song suggestions than requested.\n",
      " Please enter yes or no: no\n",
      "\n",
      "Please enter a whole number between 0 and 10 to indicate the level of energy in your playlist.\n",
      " \n",
      "0 = Minimum energy \n",
      "10 = Maximum energy \n",
      " \n",
      "Please enter a whole number between 0 and 10: 2\n",
      "\n",
      "You've selected 2 out of 10, for energy.\n",
      "\n",
      "Please wait a moment, it may take a few minutes to curate your song selection.\n",
      "\n",
      "Your recommended songs are:\n",
      "\n",
      "–––––––––––––––––––––––––––––––––––––––––––––––––––––––––––––––––––––––––––––––––––––––––––––\n",
      "Hesitation Blues - Live\n",
      "\n",
      "By:\n",
      "Hot Tuna\n",
      "\n",
      "–––––––––––––––––––––––––––––––––––––––––––––––––––––––––––––––––––––––––––––––––––––––––––––\n",
      "\n",
      "Thank you for using our Spotify playlist curator!\n"
     ]
    }
   ],
   "source": [
    "#User input\n",
    "metrics = validate_selected_features(features_lst)\n",
    "num_songs = validate_num_songs()\n",
    "not_explicit = validate_explicit()\n",
    "\n",
    "if num_songs == 170654 and not_explicit:\n",
    "    print(\"You've selected the maximum number of songs in our database. By removing explicit songs you will receive less than 170,654 song suggestions.\")\n",
    "\n",
    "#If only one feature was selected.\n",
    "if len(metrics) == 1:\n",
    "    #User input\n",
    "    feature_weight = validate_user_input(metrics[0])\n",
    "    feature_range = get_selected_feature_value(Data_DF, metrics[0], feature_weight)\n",
    "    print(\"Please wait a moment, it may take a few minutes to curate your song selection.\\n\")\n",
    "    sorted_df = find_value_difference(Data_DF, metrics[0], feature_range)\n",
    "    \n",
    "    #Filtering dataframe based on if explicit songs should be removed or not.\n",
    "    if num_songs == 170654 and not_explicit:\n",
    "        none_explicit_df = sorted_df[sorted_df['explicit'] !=1]\n",
    "        filtered_df = none_explicit_df[:]\n",
    "    elif not_explicit:\n",
    "        none_explicit_df = sorted_df[sorted_df['explicit'] !=1]\n",
    "        filtered_df = none_explicit_df[:num_songs]\n",
    "    else:\n",
    "        filtered_df = sorted_df[:num_songs]\n",
    "                \n",
    "    print(\"Your recommended songs are:\\n\")\n",
    "    #Curating playlist\n",
    "    return_songs_artist(filtered_df)\n",
    "    print(\"\\nThank you for using our Spotify playlist curator!\")\n",
    "    \n",
    "#If more than one feature was selected.\n",
    "else:\n",
    "    #Check number of requested songs.\n",
    "    if num_songs == 170654:\n",
    "        temp_num_songs = num_songs\n",
    "    elif num_songs*len(metrics) > 170654:\n",
    "        temp_num_songs = 170654\n",
    "    #Make sure the dataframe will leave each extra songs in the dataframe as there are explicit songs so explicit songs can be removed.\n",
    "    elif not_explicit and num_songs < num_explicit:\n",
    "        temp_num_songs = (num_songs*len(metrics))+num_explicit\n",
    "    else:\n",
    "        temp_num_songs = num_songs*len(metrics)\n",
    "        \n",
    "    multiple_feat_df = Data_DF\n",
    "    #Sort dataframe based on selected features.\n",
    "    for i in metrics:\n",
    "        feature_weight = validate_user_input(i)\n",
    "        feature_range = get_selected_feature_value(multiple_feat_df, i, feature_weight)\n",
    "        print(\"Please wait, this may take a while.\\n\")\n",
    "        print()\n",
    "        sorted_df = find_value_difference(multiple_feat_df, i, feature_range)\n",
    "        multiple_feat_df = sorted_df[:temp_num_songs]\n",
    "        #temp_num_songs is used to reduce the size of the dataframe at each iteration.\n",
    "        temp_num_songs = temp_num_songs - len(metrics)\n",
    "    \n",
    "    #Filtering dataframe based on if explicit songs should be removed or not.\n",
    "    if not_explicit:\n",
    "        none_explicit_df = multiple_feat_df[multiple_feat_df['explicit'] !=1]\n",
    "        filtered_df = none_explicit_df[:num_songs]\n",
    "    else:\n",
    "        filtered_df = multiple_feat_df[:num_songs]\n",
    "                \n",
    "    print(\"Your recommended songs are:\\n\")\n",
    "    #Curating playlist\n",
    "    return_songs_artist(filtered_df)\n",
    "    print(\"\\nThank you for using our Spotify playlist curator!\")"
   ]
  },
  {
   "cell_type": "markdown",
   "metadata": {},
   "source": [
    "The following code will show a visual representation of the songs chosen above."
   ]
  },
  {
   "cell_type": "code",
   "execution_count": 34,
   "metadata": {},
   "outputs": [
    {
     "data": {
      "image/png": "[encoded data removed]",
      "text/plain": [
       "<Figure size 720x504 with 1 Axes>"
      ]
     },
     "metadata": {
      "needs_background": "light"
     },
     "output_type": "display_data"
    }
   ],
   "source": [
    "small_DF = filtered_df.loc[filtered_df.index[0:num_songs]]\n",
    "\n",
    "labels = small_DF['name'] #labels of the bars\n",
    "energy_levels = small_DF['energy'] #energy levels\n",
    "dance_levels= small_DF['danceability'] #dance levels\n",
    "liveness_levels = small_DF['liveness'] #liveness levels\n",
    "\n",
    "x = np.arange(len(labels))  #get values for interval\n",
    "bar_w = 0.2  # set width of bars\n",
    "\n",
    "f, ax = plt.subplots(figsize = (10,7)) #make the plot, custom size\n",
    "bar1 = ax.bar(x - bar_w/2, energy_levels, bar_w, label='Energy') #set the bars\n",
    "bar2 = ax.bar(x + bar_w/2, dance_levels, bar_w, label='Danceability')\n",
    "bar3 = ax.bar(x + 3*(bar_w/2), liveness_levels, bar_w, label='Liveness')\n",
    "\n",
    "# Adding text\n",
    "ax.set_ylabel('Level')\n",
    "ax.set_xlabel('Song Title')\n",
    "ax.set_title('Song Metrics')\n",
    "ax.set_xticks(x)\n",
    "ax.set_xticklabels(labels)\n",
    "ax.legend()\n",
    "f.autofmt_xdate() #make space for the labels \n",
    "\n",
    "f.tight_layout()\n",
    "plt.show() #display the graph"
   ]
  },
  {
   "cell_type": "markdown",
   "metadata": {},
   "source": [
    "## Genre Recommendations by Suggested Feature"
   ]
  },
  {
   "cell_type": "code",
   "execution_count": 3,
   "metadata": {},
   "outputs": [],
   "source": [
    "genre_DF = get_csv_data(\"data_by_genres.csv\")"
   ]
  },
  {
   "cell_type": "markdown",
   "metadata": {},
   "source": [
    "First for some pre-processing of the data frame"
   ]
  },
  {
   "cell_type": "code",
   "execution_count": 4,
   "metadata": {},
   "outputs": [],
   "source": [
    "#get abs val of loudness column as all loudness values are negative \n",
    "genre_DF['loudness'] = genre_DF['loudness'].abs()\n",
    "#remove the empty genre\n",
    "genre_DF = genre_DF[genre_DF['genres'] != ('[]' or ' ' or '')]\n",
    "#keep track of original genres\n",
    "genre_df = genre_DF.copy(deep=True)\n",
    "#now make genres insensitive to spaces for user input\n",
    "genre_DF['genres'] = genre_DF['genres'].str.replace(' ', '')\n",
    "# Restrict DF to desired characteristics for comparison\n",
    "columns = ['acousticness', 'danceability', 'energy', 'instrumentalness', 'liveness', 'loudness', 'speechiness', 'tempo', 'valence', 'popularity']\n",
    "c_df = genre_DF[columns] \n",
    "#normalise columns using min-max normalisation\n",
    "genre_norm = (c_df-c_df.min())/(c_df.max()-c_df.min())\n",
    "genre_norm.fillna(0, inplace=True) #automatically set na vals to 0"
   ]
  },
  {
   "cell_type": "markdown",
   "metadata": {},
   "source": [
    "**normal_genre** A function that returns the normalised vector for the given genre"
   ]
  },
  {
   "cell_type": "code",
   "execution_count": 5,
   "metadata": {},
   "outputs": [],
   "source": [
    "def normal_genre(genre):\n",
    "    given_g_norm = genre_norm[genre_DF[\"genres\"] == genre]\n",
    "    return given_g_norm"
   ]
  },
  {
   "cell_type": "markdown",
   "metadata": {},
   "source": [
    "**euclidean_distance** A simple euclidean distance function to calculate the distance regarding all characteristics"
   ]
  },
  {
   "cell_type": "code",
   "execution_count": 6,
   "metadata": {},
   "outputs": [],
   "source": [
    "def euclidean_distance(row):\n",
    "    given_g_norm = normal_genre(genre)\n",
    "    v = 0\n",
    "    for c in columns:\n",
    "        v += (row[c] - given_g_norm[c]) ** 2\n",
    "    return math.sqrt(v)"
   ]
  },
  {
   "cell_type": "markdown",
   "metadata": {},
   "source": [
    "**similarity** A function that sorts genres by similarity to input genre"
   ]
  },
  {
   "cell_type": "code",
   "execution_count": 7,
   "metadata": {},
   "outputs": [],
   "source": [
    "def similarity():\n",
    "# Find the similarity index for each other genre\n",
    "    genre_n_similarity = genre_norm.apply(euclidean_distance, axis=1)\n",
    "#Sort by ascending value: 0 represents exact similarity\n",
    "    genre_n_similarity = genre_n_similarity.sort_values(ascending= True)\n",
    "    return genre_n_similarity"
   ]
  },
  {
   "cell_type": "markdown",
   "metadata": {},
   "source": [
    "**index_list** Get the index values of most similar genres with length equal to a given number"
   ]
  },
  {
   "cell_type": "code",
   "execution_count": 8,
   "metadata": {},
   "outputs": [],
   "source": [
    "def index_list(no_given):\n",
    "    indexlist = []\n",
    "    sim_byindex = genre_n_similarity[1:no_given+1].index\n",
    "    for i in range(0, no_given):\n",
    "        indexlist.append(int(sim_byindex[i]))\n",
    "    return indexlist"
   ]
  },
  {
   "cell_type": "markdown",
   "metadata": {},
   "source": [
    "**select_no_genres** Function to take user input as no. of genres to recommend"
   ]
  },
  {
   "cell_type": "code",
   "execution_count": 9,
   "metadata": {},
   "outputs": [],
   "source": [
    "def select_no_genres():\n",
    "    f1 = input(\"Please select the number of genres you would like: \")\n",
    "    while True:\n",
    "        if not f1.isnumeric():\n",
    "            f1 = input(\"Please enter a positive numeric value: \")\n",
    "        else:\n",
    "            break\n",
    "    f1 = int(f1)        \n",
    "    return f1"
   ]
  },
  {
   "cell_type": "markdown",
   "metadata": {},
   "source": [
    "**select_genre** Function to take user input as selected genre"
   ]
  },
  {
   "cell_type": "code",
   "execution_count": 10,
   "metadata": {},
   "outputs": [],
   "source": [
    "def select_genre():\n",
    "    genre_in = input(\"Please enter a genre to receive recommendations: \")\n",
    "    genre_in = genre_in.replace(\" \", \"\").lower()\n",
    "    while True:\n",
    "        if genre_in not in genre_DF['genres'].tolist():\n",
    "            genre_in = input(\"Please enter a valid genre: \")\n",
    "            genre_in = genre_in.replace(\" \", \"\").lower()\n",
    "        else:\n",
    "            break   \n",
    "    return genre_in"
   ]
  },
  {
   "cell_type": "markdown",
   "metadata": {},
   "source": [
    "### Find Genre Recommendations"
   ]
  },
  {
   "cell_type": "code",
   "execution_count": 11,
   "metadata": {},
   "outputs": [
    {
     "name": "stdout",
     "output_type": "stream",
     "text": [
      "Please enter a genre to receive recommendations: artpop\n",
      "Please select the number of genres you would like: 10\n",
      "\n",
      "Here are 10 genres similar to Art Pop you might like: \n",
      "\n",
      "–––––––––––––––––––––––––––––––––––––––––––––––––––––––––––––––––––––––––––––––––––––––––––––\n",
      "Genre 1: Experimental Pop\n",
      "\n",
      "–––––––––––––––––––––––––––––––––––––––––––––––––––––––––––––––––––––––––––––––––––––––––––––\n",
      "Genre 2: Alternative Americana\n",
      "\n",
      "–––––––––––––––––––––––––––––––––––––––––––––––––––––––––––––––––––––––––––––––––––––––––––––\n",
      "Genre 3: Freak Folk\n",
      "\n",
      "–––––––––––––––––––––––––––––––––––––––––––––––––––––––––––––––––––––––––––––––––––––––––––––\n",
      "Genre 4: South Carolina Indie\n",
      "\n",
      "–––––––––––––––––––––––––––––––––––––––––––––––––––––––––––––––––––––––––––––––––––––––––––––\n",
      "Genre 5: Etherpop\n",
      "\n",
      "–––––––––––––––––––––––––––––––––––––––––––––––––––––––––––––––––––––––––––––––––––––––––––––\n",
      "Genre 6: Bubblegrunge\n",
      "\n",
      "–––––––––––––––––––––––––––––––––––––––––––––––––––––––––––––––––––––––––––––––––––––––––––––\n",
      "Genre 7: Gothenburg Indie\n",
      "\n",
      "–––––––––––––––––––––––––––––––––––––––––––––––––––––––––––––––––––––––––––––––––––––––––––––\n",
      "Genre 8: Idol\n",
      "\n",
      "–––––––––––––––––––––––––––––––––––––––––––––––––––––––––––––––––––––––––––––––––––––––––––––\n",
      "Genre 9: Indie Pop\n",
      "\n",
      "–––––––––––––––––––––––––––––––––––––––––––––––––––––––––––––––––––––––––––––––––––––––––––––\n",
      "Genre 10: Stomp And Holler\n",
      "\n",
      "–––––––––––––––––––––––––––––––––––––––––––––––––––––––––––––––––––––––––––––––––––––––––––––\n"
     ]
    }
   ],
   "source": [
    "genre = select_genre()\n",
    "no_given = select_no_genres()\n",
    "\n",
    "genre_n_similarity = similarity()\n",
    "genre_to_display = genre_df['genres'][genre_n_similarity.index[0]]\n",
    "indexlist = index_list(no_given)\n",
    "list_of_genres = genre_df.loc[indexlist]['genres'].tolist()\n",
    "\n",
    "print()\n",
    "print('Here are ' + str(no_given) + ' genres similar to ' + str(genre_to_display.title()) + ' you might like: ')\n",
    "print()\n",
    "print('–––––––––––––––––––––––––––––––––––––––––––––––––––––––––––––––––––––––––––––––––––––––––––––')\n",
    "for j in range(len(list_of_genres)):\n",
    "    print('Genre ' + str(j+1) + \": \" + list_of_genres[j].title())\n",
    "    print()\n",
    "    print('–––––––––––––––––––––––––––––––––––––––––––––––––––––––––––––––––––––––––––––––––––––––––––––')"
   ]
  },
  {
   "cell_type": "markdown",
   "metadata": {},
   "source": [
    "### Compare Genres given above"
   ]
  },
  {
   "cell_type": "markdown",
   "metadata": {},
   "source": [
    "**select_metric** Function for user to select which metric to compare given genres by"
   ]
  },
  {
   "cell_type": "code",
   "execution_count": 12,
   "metadata": {},
   "outputs": [],
   "source": [
    "def select_metric(features):\n",
    "    \n",
    "    while True:\n",
    "        try: \n",
    "            response = input(\"Please enter a metric to compare genres by.\\n\\\n",
    "                             \\n1 = {} \\n2 = {} \\n3 = {} \\n4 = {} \\n5 = {} \\n6 = {} \\n7 = {} \\n8 = {} \\n9 = {} \\n10 = {} \\n\\nPlease enter one of the number above: \".format(features[0],features[1],features[2],features[3],features[4],features[5],features[6],features[7],features[8],features[9]))\n",
    "            print()\n",
    "                                   \n",
    "            if response not in ['1','2','3','4', '5', '6','7','8','9','10']:\n",
    "                print(\"{} is not an option! \\nPlease input a whole number between 1 and 10!\".format(response))\n",
    "                continue\n",
    "            break\n",
    "            \n",
    "        except ValueError:\n",
    "            print(\"{} is not an option! \\nPlease input a whole number between 1 and 10!\".format(response))\n",
    "    print(\"You've selected {}.\".format(features[int(response)-1]))\n",
    "    print()\n",
    "            \n",
    "\n",
    "    return features[int(response)-1]"
   ]
  },
  {
   "cell_type": "markdown",
   "metadata": {},
   "source": [
    "### Pick a Metric to Compare Genres with"
   ]
  },
  {
   "cell_type": "code",
   "execution_count": 13,
   "metadata": {},
   "outputs": [
    {
     "name": "stdout",
     "output_type": "stream",
     "text": [
      "Please enter a metric to compare genres by.\n",
      "                             \n",
      "1 = valence \n",
      "2 = acousticness \n",
      "3 = danceability \n",
      "4 = energy \n",
      "5 = instrumentalness \n",
      "6 = liveness \n",
      "7 = loudness \n",
      "8 = popularity \n",
      "9 = speechiness \n",
      "10 = tempo \n",
      "\n",
      "Please enter one of the number above: 8\n",
      "\n",
      "You've selected popularity.\n",
      "\n"
     ]
    }
   ],
   "source": [
    "columns.insert(0,'genres')\n",
    "\n",
    "newindexlist = []\n",
    "sim_byindex = genre_n_similarity[0:no_given].index\n",
    "for i in range(0, no_given):\n",
    "    newindexlist.append(int(sim_byindex[i]))\n",
    "df_display = genre_df.loc[newindexlist][columns]\n",
    "features = ['valence', 'acousticness', 'danceability', 'energy', 'instrumentalness', 'liveness', 'loudness', 'popularity', 'speechiness', 'tempo']\n",
    "metric = select_metric(features)\n",
    "df_display = df_display.sort_values(by=[metric], ascending=True)"
   ]
  },
  {
   "cell_type": "markdown",
   "metadata": {},
   "source": [
    "Plot the above information in a bar chart"
   ]
  },
  {
   "cell_type": "code",
   "execution_count": 14,
   "metadata": {},
   "outputs": [
    {
     "data": {
      "image/png": "[encoded data removed]",
      "text/plain": [
       "<Figure size 720x360 with 1 Axes>"
      ]
     },
     "metadata": {
      "needs_background": "light"
     },
     "output_type": "display_data"
    }
   ],
   "source": [
    "labels = [x.title() for x in df_display['genres']] #labels of the bars\n",
    "value = df_display[metric] #display chosen metric\n",
    "\n",
    "x = np.arange(len(labels))  #get values for interval\n",
    "bar_w = 0.5  # set width of bars\n",
    "\n",
    "f, ax = plt.subplots(figsize = (10,5)) #make the plot, custom size\n",
    "bar1 = ax.bar(x - bar_w/2, value, bar_w, label=metric.title()) #set the bars\n",
    "\n",
    "# Adding text\n",
    "ax.set_ylabel('Level')\n",
    "ax.set_xlabel('Genre')\n",
    "ax.set_title('Genre comparison by: ' + metric.title())\n",
    "ax.set_xticks(x)\n",
    "ax.set_xticklabels(labels)\n",
    "ax.legend()\n",
    "f.autofmt_xdate() #make space for the labels \n",
    "\n",
    "f.tight_layout()\n",
    "plt.show() #display the graph"
   ]
  },
  {
   "cell_type": "markdown",
   "metadata": {},
   "source": [
    "## Suggested Genre by Artist"
   ]
  },
  {
   "cell_type": "code",
   "execution_count": 15,
   "metadata": {},
   "outputs": [],
   "source": [
    "AG_DF = get_csv_data(\"data_w_genres.csv\")"
   ]
  },
  {
   "cell_type": "markdown",
   "metadata": {},
   "source": [
    "Pre-processing DF to allow for case and space insensitivity"
   ]
  },
  {
   "cell_type": "code",
   "execution_count": 16,
   "metadata": {},
   "outputs": [],
   "source": [
    "#keep track of original artist names\n",
    "ag_df = AG_DF.copy(deep=True)\n",
    "#now make artists case and space insensitive for user input\n",
    "AG_DF['artists'] = AG_DF['artists'].str.replace(' ', '')\n",
    "AG_DF['artists'] = [x.lower() for x in AG_DF['artists']]\n",
    "artist_list = AG_DF['artists'].tolist()"
   ]
  },
  {
   "cell_type": "markdown",
   "metadata": {},
   "source": [
    "**select_artist** Function to allow user to select artist for input"
   ]
  },
  {
   "cell_type": "code",
   "execution_count": 17,
   "metadata": {},
   "outputs": [],
   "source": [
    "def select_artist():\n",
    "    artist_in = input(\"Please enter an artist to receive recommended genres: \")\n",
    "    artist_in = artist_in.replace(\" \", \"\").lower()\n",
    "    while True:\n",
    "        if artist_in not in artist_list:\n",
    "            artist_in = input(\"Please enter a verified Spotify artist: \")\n",
    "            artist_in = artist_in.replace(\" \", \"\").lower()\n",
    "        else:\n",
    "            break   \n",
    "    return artist_in"
   ]
  },
  {
   "cell_type": "markdown",
   "metadata": {},
   "source": [
    "**get_genres** Function that returns a list of genres associated with an artist"
   ]
  },
  {
   "cell_type": "code",
   "execution_count": 18,
   "metadata": {},
   "outputs": [],
   "source": [
    "def get_genres(artist):\n",
    "    genres = []\n",
    "    i = artist_list.index(artist)\n",
    "    if AG_DF['genres'][i] == '[]':\n",
    "        return False\n",
    "    return AG_DF['genres'][i]"
   ]
  },
  {
   "cell_type": "markdown",
   "metadata": {},
   "source": [
    "### Find Genre from Artist Choice"
   ]
  },
  {
   "cell_type": "code",
   "execution_count": 19,
   "metadata": {},
   "outputs": [
    {
     "name": "stdout",
     "output_type": "stream",
     "text": [
      "Please enter an artist to receive recommended genres: lauramarling\n",
      "\n",
      "If you like Laura Marling we recommend the following genres: \n",
      "\n",
      "–––––––––––––––––––––––––––––––––––––––––––––––––––––––––––––––––––––––––––––––––––––––––––––\n",
      "Genre 1: Art Pop\n",
      "\n",
      "–––––––––––––––––––––––––––––––––––––––––––––––––––––––––––––––––––––––––––––––––––––––––––––\n",
      "Genre 2: British Folk\n",
      "\n",
      "–––––––––––––––––––––––––––––––––––––––––––––––––––––––––––––––––––––––––––––––––––––––––––––\n",
      "Genre 3: British Singer-Songwriter\n",
      "\n",
      "–––––––––––––––––––––––––––––––––––––––––––––––––––––––––––––––––––––––––––––––––––––––––––––\n",
      "Genre 4: Chamber Pop\n",
      "\n",
      "–––––––––––––––––––––––––––––––––––––––––––––––––––––––––––––––––––––––––––––––––––––––––––––\n",
      "Genre 5: Chamber Psych\n",
      "\n",
      "–––––––––––––––––––––––––––––––––––––––––––––––––––––––––––––––––––––––––––––––––––––––––––––\n",
      "Genre 6: Indie Folk\n",
      "\n",
      "–––––––––––––––––––––––––––––––––––––––––––––––––––––––––––––––––––––––––––––––––––––––––––––\n",
      "Genre 7: Singer-Songwriter\n",
      "\n",
      "–––––––––––––––––––––––––––––––––––––––––––––––––––––––––––––––––––––––––––––––––––––––––––––\n",
      "Genre 8: Stomp And Holler\n",
      "\n",
      "–––––––––––––––––––––––––––––––––––––––––––––––––––––––––––––––––––––––––––––––––––––––––––––\n"
     ]
    }
   ],
   "source": [
    "artist = select_artist()\n",
    "artist_display = ag_df['artists'][artist_list.index(artist)]\n",
    "\n",
    "if get_genres(artist) == False:\n",
    "    print('Sorry, there are no established genres associated with this artist')\n",
    "else:\n",
    "    print()\n",
    "    print('If you like ' + artist_display + ' we recommend the following genres: ')\n",
    "    remove_char_lst = [\"[\", \"]\", \"'\"]\n",
    "    genre_list = get_genres(artist)\n",
    "    \n",
    "    for char in remove_char_lst:\n",
    "        genre_list = genre_list.replace(char, \"\")\n",
    "    genres = genre_list.split(\", \")\n",
    "    print()\n",
    "    print('–––––––––––––––––––––––––––––––––––––––––––––––––––––––––––––––––––––––––––––––––––––––––––––')\n",
    "    for j in range(len(genres)):\n",
    "        print('Genre ' + str(j+1) + \": \" + genres[j].title())\n",
    "        print()\n",
    "        print('–––––––––––––––––––––––––––––––––––––––––––––––––––––––––––––––––––––––––––––––––––––––––––––')"
   ]
  },
  {
   "cell_type": "markdown",
   "metadata": {},
   "source": [
    "# Project Outcome (10 + 10 marks)\n",
    "\n",
    "_This section should describe the outcome of the project by means of both explanation of the results and by graphical visualisation in the form of graphs, charts or or other kinds of diagram_\n",
    "\n",
    "_The section should begin with a general overview of the results and then have a section for each of the project objectives. For each of these objectives an explanation of more specific results relating to that objective shoud be given, followed by a section presenting some visualisation of the results obtained. (In the case where\n",
    "the project had just one objective, you should still have a section describing\n",
    "the results from a general perspective followed by a section that focuses on\n",
    "the particular objective.)_\n",
    "\n",
    "_The marks for this section will be divided into 10 marks for Explanation\n",
    "and 10 marks for Visualisation. These marks will be awarded for the Project Outcome\n",
    "section as a whole, not for each objective individually. Hence, you do not\n",
    "have to pay equal attention to each. However, you are expected to have a\n",
    "some explanation and visualisation for each. It is suggested you have\n",
    "200-400 words explanation for each objective._"
   ]
  },
  {
   "cell_type": "markdown",
   "metadata": {
    "slideshow": {
     "slide_type": "fragment"
    }
   },
   "source": [
    "## Overview of Results\n",
    "_Give a general overview of the results (around 200 words)._"
   ]
  },
  {
   "cell_type": "markdown",
   "metadata": {},
   "source": [
    "## Objective 1\n",
    "\n",
    "### Explanation of Results\n",
    "\n",
    "The “curating a playlist” section outputs a list of songs most similar to the users inputted value and feature, as we required. For example, when the user asks for the 3 songs most close to having a 5 in danceability the top 3 songs that are closest to a 5 in danceability will have their song name and artist printed.\n",
    "\n",
    "This was done by first asking the user to input the feature they wished to create a playlist around and then asking for a number that should be assigned to that feature, for example you could choose danceability and the number 10 if you wished to have very danceable songs. This number was then compared to the feature value for each song in the dataframe, and the dataframe reordered so that songs with feature value closer to the chosen number were at the top. It is also possible for the user to specify how many songs they would like returned. This request is completed by taking that number of songs from the top of the dataframe. \n",
    "\n",
    "However, due to the number of songs in the original database if the user asks for a small number of songs or only specifies a small number of features it may be that they miss many songs that come within the limits they have set. Thereby, possibly missing songs that they would enjoy on their playlist.\n",
    "\n",
    "\n",
    "### Visualisation\n",
    "The following bar chart shows the results of an input that requires the danceability feature with a value of 8 and the tempo function with a value of 1, asking for 5 songs and excluding explicit ones. As you can see, the danceability of all these songs are of a very similar value as requested. However, the energy and liveness differ slightly. Please note, this is the same bar chart as shown in the code above that allows the user to have a visual representation of their playlist."
   ]
  },
  {
   "cell_type": "code",
   "execution_count": 36,
   "metadata": {},
   "outputs": [
    {
     "data": {
      "image/png": "[encoded data removed]",
      "text/plain": [
       "<Figure size 720x504 with 1 Axes>"
      ]
     },
     "metadata": {
      "needs_background": "light"
     },
     "output_type": "display_data"
    }
   ],
   "source": [
    "small_DF = filtered_df.loc[filtered_df.index[0:num_songs]]\n",
    "\n",
    "labels = small_DF['name'] #labels of the bars\n",
    "energy_levels = small_DF['energy'] #energy levels\n",
    "dance_levels= small_DF['danceability'] #dance levels\n",
    "liveness_levels = small_DF['liveness'] #liveness levels\n",
    "\n",
    "x = np.arange(len(labels))  #get values for interval\n",
    "bar_w = 0.2  # set width of bars\n",
    "\n",
    "f, ax = plt.subplots(figsize = (10,7)) #make the plot, custom size\n",
    "bar1 = ax.bar(x - bar_w/2, energy_levels, bar_w, label='Energy') #set the bars\n",
    "bar2 = ax.bar(x + bar_w/2, dance_levels, bar_w, label='Danceability')\n",
    "bar3 = ax.bar(x + 3*(bar_w/2), liveness_levels, bar_w, label='Liveness')\n",
    "\n",
    "# Adding text\n",
    "ax.set_ylabel('Level')\n",
    "ax.set_xlabel('Song Title')\n",
    "ax.set_title('Song Metrics')\n",
    "ax.set_xticks(x)\n",
    "ax.set_xticklabels(labels)\n",
    "ax.legend()\n",
    "f.autofmt_xdate() #make space for the labels \n",
    "\n",
    "f.tight_layout()\n",
    "plt.show() #display the graph"
   ]
  },
  {
   "cell_type": "markdown",
   "metadata": {},
   "source": [
    "## Objective 2 \n",
    "### Explanation of Results\n",
    "\n",
    "The ‘genre recommendations’ section successfully returns a list of chosen length of similar genres to the genre input by the user. On the whole, the genres returned appear very similar to the input genre. For example, when ‘techno’ is input, the output is (for 10 genres):\n",
    "\n",
    "*Output here showing ‘techno’ output in Notebook*\n",
    "\n",
    "This was achieved by calculating a similarity index (where 0 is exactly the same and the further away from 0, the less similar) for each element in the genre column of the dataframe (using normalised vectors for each row and using Euclidean distance to represent the similarity to the chosen genre over all the characteristics). Characteristics include aspects such as ‘danceability’, ‘tempo’ and ‘acousticness.’ Therefore, genres with similar characteristics should be similar. \n",
    "The genres were then sorted by similarity value (to the chosen genre) ascending and the first n elements retrieved to give the most similar n genres (where n is the user’s desired number of genres).\n",
    "\n",
    "The limitation of this is that the recommended genres probably won’t be exactly the most similar genres, as only the characteristics present in the data.csv file were used to compare genres, when in fact, genres could be associated with many more characteristics (for example, artists weren’t included in this data file and all the genres associated with one artist are often similar). Nonetheless, it is sufficiently successful in achieving the objective.\n",
    "\n",
    "Similarly, for the ‘genre recommendations by artist’ section, the user is recommended all the genres associated with their chosen artist. This is done simply by using a pandas dataframe and retrieving the ‘genres’ element at the same index as the given artist. For example, when ‘Radiohead’ is input, the output is as follows:\n",
    "\n",
    "*Output here showing genres associated with Radiohead*\n",
    "\n",
    "\n",
    "### Visualisation\n",
    "\n",
    "After the user had been recommended a series of genres, the user was then prompted to select a metric by which to compare the genres from the available metrics in the dataframe. Matplotlib was used to display the comparison between the metric values for each of the genres as a bar chart (with each bar indicating a separate genre) including the original genre so that the user could see how that compares with the recommended genres. They are ordered by value ascending in terms of the selected metric so that the user can visualise their ranking.\n",
    "So, for example, choosing ‘tempo’ for the genres similar to ‘techno’ produces the following:\n",
    "\n",
    "*Output here showing bar graph for genres similar to ‘techno’ based on their tempo*\n",
    "\n"
   ]
  },
  {
   "cell_type": "markdown",
   "metadata": {},
   "source": [
    "## Objective 3 – Improve User Experience and Input Validation.\n",
    "### Explanation of Results\n",
    "\n",
    "Having implemented the desired features, we wanted to make the user experience a bit better and to try and avoid invalid inputs when using the system. The overall aim was to improve the usability of the program and the user experience which can be defined by Jakob Nielsen's \"10 Usability Heuristics\" (found here: https://www.nngroup.com/articles/ten-usability-heuristics/). The main heuristics improved in this section were flexibility, user control, and error prevention, diagnosis and recovery. Although not all heuristics were achieved to the greatest extent possible, there was a noticeable increase in usability. For example, the output was formatted to make the curated playlist/song suggestions more legible instead of outputing a list. What the user is expected to input and where has been addressed and appropriate error messages have been added to inform the user if their input was invalid. The user is then asked to re-enter their input with a valid input. A message \"Please wait, this may take a while.\" has been added to the systems where there is a considerable lag between the user input and the next.\n",
    "\n",
    "### Visualisation\n",
    "\n",
    "Please see below an example of perfect user behaviour and some imperfect user behavour. Not all options and fail safes are shown here as displaying every possible type of input would be too long to demonstrate here. So please feel free to use the notebook provided to try and break the program."
   ]
  },
  {
   "cell_type": "markdown",
   "metadata": {},
   "source": [
    "### Perfect use"
   ]
  },
  {
   "cell_type": "markdown",
   "metadata": {},
   "source": [
    "![title](perfectuse1.png)"
   ]
  },
  {
   "cell_type": "markdown",
   "metadata": {},
   "source": [
    "![title](perfectuse2.png)"
   ]
  },
  {
   "cell_type": "markdown",
   "metadata": {},
   "source": [
    "### Imperfect use"
   ]
  },
  {
   "cell_type": "markdown",
   "metadata": {},
   "source": [
    "![title](imperfectuse1.png)"
   ]
  },
  {
   "cell_type": "markdown",
   "metadata": {},
   "source": [
    "![title](imperfectuse2.png)"
   ]
  },
  {
   "cell_type": "markdown",
   "metadata": {},
   "source": [
    "# Conclusion \n",
    "\n",
    "\n",
    "### Acheivements\n",
    "As we had anticipated, we were able to successfully return a curated Spotify playlist based on the user’s desired level of a certain characteristic (such as ‘danceability’). When we retrieved genre recommendations based on a selected genre by comparing over the set of characteristics that were available, the genres did appear very similar to that of the input genre (even if they were perhaps not the most similar genres). We also successfully retrieved a set of genres associated with a user’s favourite artist. \n",
    "\n",
    "### Limitations\n",
    "\n",
    "We were limited in that we didn’t have access to one single database with all the necessary information in: for example, the database that displayed information by genre didn’t have any associated songs or artists with that genre, and so we were limited in what we could select easily based on a genre. In the database with artist data, every artist was associated with multiple genres and so it would not have been trivial to select a genre and return a list of associated artists. Given the time limitations, we did not achieve this. \n",
    "\n",
    "### Future Work\n",
    "\n",
    "In the future, we would expand the functionality of the playlist, artist and genre recommendations by recommending artists based on genres, and allowing the user to personally select what kind of recommendations they would like. \n",
    "Once we were able to give artist recommendations, we could then return a playlist of a handful of songs by those artists, so that the user would only have to input a single genre or artist and would receive a specially curated playlist. This would be done by matching up the indexes of the dataframe in which the genre or artist appears and then retrieving songs with the same indexes. Alternatively, we would allow multiple inputs of genres or artists as a list so that the user could receive a recommendation which is even more specific to their tastes. This would be achieved by retrieving multiple sets of recommendations (as performed individually in objective 2) and prioritising those which are duplicates. \n"
   ]
  },
  {
   "cell_type": "markdown",
   "metadata": {},
   "source": [
    "# Grading\n",
    "\n",
    "_Feedback and marks will be given here._\n",
    "\n",
    "### Feedback\n",
    "\n",
    "### Marks"
   ]
  },
  {
   "cell_type": "code",
   "execution_count": 56,
   "metadata": {},
   "outputs": [
    {
     "data": {
      "text/plain": [
       "60"
      ]
     },
     "execution_count": 56,
     "metadata": {},
     "output_type": "execute_result"
    }
   ],
   "source": [
    "DATA   = 10\n",
    "AIMS   =  5\n",
    "DESIGN = 5\n",
    "\n",
    "CODE = 15\n",
    "\n",
    "OUTCOME_EXPLANATION   = 10\n",
    "OUTCOME_VISUALISATION = 10\n",
    "\n",
    "CONCLUSION = 5\n",
    "\n",
    "TOTAL = ( DATA + AIMS + DESIGN + CODE \n",
    "          + OUTCOME_VISUALISATION + OUTCOME_VISUALISATION\n",
    "          + CONCLUSION )\n",
    "TOTAL"
   ]
  },
  {
   "cell_type": "code",
   "execution_count": null,
   "metadata": {},
   "outputs": [],
   "source": []
  }
 ],
 "metadata": {
  "kernelspec": {
   "display_name": "Python 3",
   "language": "python",
   "name": "python3"
  },
  "language_info": {
   "codemirror_mode": {
    "name": "ipython",
    "version": 3
   },
   "file_extension": ".py",
   "mimetype": "text/x-python",
   "name": "python",
   "nbconvert_exporter": "python",
   "pygments_lexer": "ipython3",
   "version": "3.7.3"
  }
 },
 "nbformat": 4,
 "nbformat_minor": 4
}
