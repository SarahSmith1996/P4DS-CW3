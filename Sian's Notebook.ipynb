{
 "cells": [
  {
   "cell_type": "code",
   "execution_count": 34,
   "metadata": {},
   "outputs": [],
   "source": [
    "import warnings\n",
    "                      \n",
    "import pandas  ## This is the module for creating and manipulating DataFrame\n",
    "\n",
    "from pandas.core.common import SettingWithCopyWarning\n",
    "\n",
    "warnings.simplefilter(action=\"ignore\", category=SettingWithCopyWarning)\n"
   ]
  },
  {
   "cell_type": "markdown",
   "metadata": {},
   "source": [
    "##  Config Variables"
   ]
  },
  {
   "cell_type": "code",
   "execution_count": 35,
   "metadata": {},
   "outputs": [
    {
     "name": "stdout",
     "output_type": "stream",
     "text": [
      "14433\n"
     ]
    }
   ],
   "source": [
    "#Name of csv file used for dataframe.\n",
    "relative_data_path = 'data.csv'\n",
    "Data_DF = get_csv_data(relative_data_path)\n",
    "features_lst = ['valence', 'acousticness', 'danceability', 'energy', 'instrumentalness', 'liveness', 'loudness', 'popularity', 'speechiness', 'tempo']\n",
    "num_explicit = len(Data_DF[Data_DF['explicit'] !=0])\n",
    "print(num_explicit)"
   ]
  },
  {
   "cell_type": "markdown",
   "metadata": {},
   "source": [
    "## Functions"
   ]
  },
  {
   "cell_type": "markdown",
   "metadata": {},
   "source": [
    "**get_csv_data** – Takes the location of a csv file and returns a dataframe of the csv file."
   ]
  },
  {
   "cell_type": "code",
   "execution_count": 36,
   "metadata": {},
   "outputs": [],
   "source": [
    "def get_csv_data(location):\n",
    "\n",
    "    df = pandas.read_csv(location)\n",
    "    return df"
   ]
  },
  {
   "cell_type": "markdown",
   "metadata": {},
   "source": [
    "**validate_user_input** – Takes a string (feature) and returns a strin"
   ]
  },
  {
   "cell_type": "code",
   "execution_count": 37,
   "metadata": {},
   "outputs": [],
   "source": [
    "def validate_user_input(feature):\n",
    "    \n",
    "    while True:\n",
    "        try: \n",
    "            response = input(\"Please enter a whole number between 0 and 10 to indicate the level of {} in your playlist.\\n \\n0 = Minimum {} \\n10 = Maximum {} \\n \\nPlease enter a whole number between 0 and 10: \".format(feature,feature,feature))\n",
    "            print()\n",
    "                                   \n",
    "            if response not in ['0','1','2','3','4', '5', '6','7','8','9','10']:\n",
    "                print(\"{} is not a whole number between 0 and 10! \\nPlease input a whole number between 0 and 10!\\n\".format(response))\n",
    "                continue\n",
    "            break\n",
    "        except ValueError:\n",
    "            print(\"{} is not a whole number between 0 and 10! \\nPlease input a whole number between 0 and 10!\\n\".format(response))\n",
    "    \n",
    "    print(\"You've selected {} out of 10, for {}.\\n\".format(response, feature))\n",
    "    feature_weight = int(response)/10\n",
    "    \n",
    "    return feature_weight\n",
    "#validate_user_input('energy')"
   ]
  },
  {
   "cell_type": "code",
   "execution_count": 19,
   "metadata": {},
   "outputs": [],
   "source": [
    "def validate_selected_features(features):\n",
    "    selected_features = list()\n",
    "    \n",
    "    while True:\n",
    "        try: \n",
    "            response = input(\"Please select which feature you'd like to base your playlist suggestion on.\\nIf you would like to select multiple features, please select the most important one first. Thank you.\\n\\\n",
    "                             \\n1 = {} \\n2 = {} \\n3 = {} \\n4 = {} \\n5 = {} \\n6 = {} \\n7 = {} \\n8 = {} \\n9 = {} \\n10 = {} \\n\\nPlease enter one of the numbers shown above: \".format(features[0],features[1],features[2],features[3],features[4],features[5],features[6],features[7],features[8],features[9]))\n",
    "            print()\n",
    "                                   \n",
    "            if response not in ['1','2','3','4', '5', '6','7','8','9','10']:\n",
    "                print(\"{} is not an option! \\nPlease input a whole number between 1 and 10!\".format(response))\n",
    "                continue\n",
    "            selected_features.append(features[int(response)-1])\n",
    "            print(\"You've selected {}.\".format(features[int(response)-1]))\n",
    "            print()\n",
    "            while True:\n",
    "                try:\n",
    "                    again = input(\"Would you like to select another feature? \\nPlease enter yes or no: \")\n",
    "                    print()\n",
    "            \n",
    "                    if again.lower() not in ['yes', 'no']:\n",
    "                        print(\"{} is not an option! \\nPlease answer with yes or no.\\n\".format(again))\n",
    "                        continue\n",
    "                    break\n",
    "                except ValueError:\n",
    "                    print(\"{} is not an option! \\nPlease answer with yes or no.\".format(again))\n",
    "            if again.lower() == 'no':\n",
    "                break\n",
    "            else:\n",
    "                continue\n",
    "        except ValueError:\n",
    "            print(\"{} is not an option! \\nPlease input a whole number between 1 and 10!\".format(response))\n",
    "    \n",
    "    print(\"Thank you. \\n\\nYou've selected:\\n\")\n",
    "    print()\n",
    "    \n",
    "    selected_features_lst = list(dict.fromkeys(selected_features))\n",
    "    for i in selected_features_lst:\n",
    "        print(i)\n",
    "    \n",
    "    print()\n",
    "    return selected_features_lst\n",
    "#validate_selected_features(features_lst)"
   ]
  },
  {
   "cell_type": "markdown",
   "metadata": {},
   "source": [
    "###### Dataframe sorting and filtering funtions"
   ]
  },
  {
   "cell_type": "markdown",
   "metadata": {},
   "source": [
    "**sort_by_feature** – Takes a dataframe (df), a string columnnsme (feature) and a boolean (order). The dataframe will be sorted based on feature and the value of order. The sorted dataframe is returned."
   ]
  },
  {
   "cell_type": "code",
   "execution_count": 38,
   "metadata": {},
   "outputs": [],
   "source": [
    "def sort_by_feature(df, feature, order):\n",
    "    sorted_df = df.sort_values(by=[feature], ascending=order)\n",
    "    return sorted_df\n",
    "\n",
    "#sort_by_feature(df, \"energy\", True)"
   ]
  },
  {
   "cell_type": "markdown",
   "metadata": {},
   "source": [
    "**data_by_feature_range** – Takes a datframe (df), a string columnname (feature) and two floats (lower_lim, upper_lim). Dataframe is filtered based on feature within a lower and upper value limit. Returns dataframe within the feature limits."
   ]
  },
  {
   "cell_type": "code",
   "execution_count": 39,
   "metadata": {},
   "outputs": [],
   "source": [
    "def data_by_feature_range(df, feature, lower_lim, upper_lim):\n",
    "    filter_DF = df[(df[feature] >= lower_lim) & (df[feature] <= upper_lim)]\n",
    "    return filter_DF\n",
    "\n",
    "#data_by_feature_range(Data_DF, \"energy\", 0.1, 0.3)"
   ]
  },
  {
   "cell_type": "markdown",
   "metadata": {},
   "source": []
  },
  {
   "cell_type": "markdown",
   "metadata": {},
   "source": [
    "**get_selected_feature_value** – Takes dataframe (df), string columnname (feature), float (percent) value between 0 and 1 representing percent. Returns the selected percentage value of the feature e.g., 40% of 30000 where 40% is represented as 0.4."
   ]
  },
  {
   "cell_type": "code",
   "execution_count": 40,
   "metadata": {},
   "outputs": [],
   "source": [
    "def get_selected_feature_value(df, feature, percent):\n",
    "    min_val = df[[feature]].min().item()\n",
    "    max_val = df[[feature]].max().item()\n",
    "   \n",
    "    total = max_val - min_val\n",
    "    feature_percent = total*percent\n",
    "   \n",
    "    feature_value = feature_percent+min_val\n",
    "    \n",
    "    return feature_value\n",
    "\n",
    "#get_selected_feature_value(Data_DF, 'danceability', 0.4)"
   ]
  },
  {
   "cell_type": "code",
   "execution_count": 41,
   "metadata": {},
   "outputs": [],
   "source": [
    "def find_value_difference(df, feature, value):\n",
    "    difference = []\n",
    "    for i, row in df.iterrows():\n",
    "        difference.append(abs(row[feature] - value))\n",
    "    df['difference'] = difference\n",
    "    sorted_df = df.sort_values(by=['difference'], ascending = True)\n",
    "    del sorted_df['difference']\n",
    "    \n",
    "    return sorted_df\n",
    "\n",
    "#find_value_difference(Data_DF, \"energy\", 0.4)"
   ]
  },
  {
   "cell_type": "code",
   "execution_count": 8,
   "metadata": {},
   "outputs": [],
   "source": []
  },
  {
   "cell_type": "markdown",
   "metadata": {},
   "source": [
    " "
   ]
  },
  {
   "cell_type": "code",
   "execution_count": null,
   "metadata": {},
   "outputs": [],
   "source": []
  },
  {
   "cell_type": "markdown",
   "metadata": {},
   "source": []
  },
  {
   "cell_type": "code",
   "execution_count": 42,
   "metadata": {},
   "outputs": [],
   "source": [
    "def return_songs_artist(df):\n",
    "    name_list = df['name'].values.tolist()\n",
    "    artist_list = df['artists'].values.tolist()\n",
    "  \n",
    "    remove_char_lst = [\"[\", \"]\", \"'\"]\n",
    "    print('–––––––––––––––––––––––––––––––––––––––––––––––––––––––––––––––––––––––––––––––––––––––––––––')\n",
    "    for i in range(len(name_list)):\n",
    "        artist_str = artist_list[i]\n",
    "        song_str = name_list[i]\n",
    "        for char in remove_char_lst:\n",
    "            artist_str = artist_str.replace(char, \"\")\n",
    "            song_str = song_str.replace(char, \"\")\n",
    "        artists = artist_str.split(\", \")\n",
    "        print(song_str, end = '\\n')\n",
    "        print()\n",
    "        print('By:')\n",
    "       \n",
    "        for j in range(len(artists)):\n",
    "            print(artists[j])\n",
    "        print()\n",
    "        print('–––––––––––––––––––––––––––––––––––––––––––––––––––––––––––––––––––––––––––––––––––––––––––––')\n",
    "        #the_list.append([name_list[i],artist_list[i]])\n",
    "    \n",
    "\n",
    "#return_songs_artist(Data_DF)"
   ]
  },
  {
   "cell_type": "markdown",
   "metadata": {},
   "source": [
    "The following function allows the user to say how many songs they would like suggested"
   ]
  },
  {
   "cell_type": "code",
   "execution_count": 43,
   "metadata": {},
   "outputs": [],
   "source": [
    "def validate_num_songs():\n",
    "    while True:\n",
    "        try:\n",
    "            value = input(\"Please enter the number of songs you would like with no spaces, periods or commas.\\n\\nPlease enter a number: \")\n",
    "            print()\n",
    "            \n",
    "            if not isinstance(int(value), int):\n",
    "                print(\"{} is not a whole number! \\nPlease input an interger!\\n\".format(value))\n",
    "                continue\n",
    "            if int(value) < 0:\n",
    "                print(\"{} is a negative number! \\nPlease enter a positive number!\\n\".format(value))\n",
    "                continue\n",
    "            if int(value) == 0:\n",
    "                print(\"{} is not an option! \\nPlease a number greater than 1!\\n\".format(value))\n",
    "                continue\n",
    "            if int(value) > 170654:\n",
    "                print(\"{} is too big! There are a maximum of 170,654 songs in our database.\".format(value))\n",
    "                continue\n",
    "            break\n",
    "        except ValueError:\n",
    "            print(\"{} is not a number! \\nPlease input a whole number!\\n\".format(value))\n",
    "    \n",
    "    num_songs = int(value)\n",
    "    if num_songs == 1:\n",
    "        print(\"You've requested {} song.\\n\".format(value))\n",
    "        return num_songs\n",
    "    else:\n",
    "        print(\"You've requested {} songs.\\n\".format(value))\n",
    "        return num_songs\n",
    "\n",
    "#validate_num_songs()"
   ]
  },
  {
   "cell_type": "markdown",
   "metadata": {},
   "source": []
  },
  {
   "cell_type": "code",
   "execution_count": 12,
   "metadata": {},
   "outputs": [],
   "source": []
  },
  {
   "cell_type": "markdown",
   "metadata": {},
   "source": []
  },
  {
   "cell_type": "code",
   "execution_count": 13,
   "metadata": {},
   "outputs": [],
   "source": []
  },
  {
   "cell_type": "markdown",
   "metadata": {},
   "source": [
    "The function below allows the user to pick whether to include explicit songs"
   ]
  },
  {
   "cell_type": "code",
   "execution_count": 44,
   "metadata": {},
   "outputs": [],
   "source": [
    "def validate_explicit():\n",
    "    \n",
    "    while True:\n",
    "        try:\n",
    "            ans = input(\"Would you like to exclude explicit songs? Please be aware that ansering yes may result in less song suggestions than requested.\\n Please enter yes or no: \")\n",
    "            print()\n",
    "            if ans.lower() not in ['yes', 'no']:\n",
    "                print(\"{} is not an option! \\nPlease answer with yes or no.\\n\".format(again))\n",
    "                continue\n",
    "            break\n",
    "        except ValueError:\n",
    "            print(\"{} is not an option! \\nPlease answer with yes or no.\".format(again))\n",
    "    \n",
    "    if ans.lower() == 'yes':\n",
    "        return True\n",
    "    else:\n",
    "        return False"
   ]
  },
  {
   "cell_type": "markdown",
   "metadata": {},
   "source": [
    "Example of whole thing, when the user asks for a curated playlist:"
   ]
  },
  {
   "cell_type": "code",
   "execution_count": 45,
   "metadata": {},
   "outputs": [
    {
     "name": "stdout",
     "output_type": "stream",
     "text": [
      "Please select which feature you'd like to base your playlist suggestion on.\n",
      "If you would like to select multiple features, please select the most important one first. Thank you.\n",
      "                             \n",
      "1 = valence \n",
      "2 = acousticness \n",
      "3 = danceability \n",
      "4 = energy \n",
      "5 = instrumentalness \n",
      "6 = liveness \n",
      "7 = loudness \n",
      "8 = popularity \n",
      "9 = speechiness \n",
      "10 = tempo \n",
      "\n",
      "Please enter one of the numbers shown above: 3\n",
      "\n",
      "You've selected danceability.\n",
      "\n",
      "Would you like to select another feature? \n",
      "Please enter yes or no: yes\n",
      "\n",
      "Please select which feature you'd like to base your playlist suggestion on.\n",
      "If you would like to select multiple features, please select the most important one first. Thank you.\n",
      "                             \n",
      "1 = valence \n",
      "2 = acousticness \n",
      "3 = danceability \n",
      "4 = energy \n",
      "5 = instrumentalness \n",
      "6 = liveness \n",
      "7 = loudness \n",
      "8 = popularity \n",
      "9 = speechiness \n",
      "10 = tempo \n",
      "\n",
      "Please enter one of the numbers shown above: 10\n",
      "\n",
      "You've selected tempo.\n",
      "\n",
      "Would you like to select another feature? \n",
      "Please enter yes or no: no\n",
      "\n",
      "Thank you. \n",
      "\n",
      "You've selected:\n",
      "\n",
      "\n",
      "danceability\n",
      "tempo\n",
      "\n",
      "Please enter the number of songs you would like with no spaces, periods or commas.\n",
      "\n",
      "Please enter a number: 5\n",
      "\n",
      "You've requested 5 songs.\n",
      "\n",
      "Would you like to exclude explicit songs? Please be aware that ansering yes may result in less song suggestions than requested.\n",
      " Please enter yes or no: yes\n",
      "\n",
      "Please enter a whole number between 0 and 10 to indicate the level of danceability in your playlist.\n",
      " \n",
      "0 = Minimum danceability \n",
      "10 = Maximum danceability \n",
      " \n",
      "Please enter a whole number between 0 and 10: 6\n",
      "\n",
      "You've selected 6 out of 10, for danceability.\n",
      "\n",
      "Please wait, this may take a while.\n",
      "\n",
      "\n",
      "Please enter a whole number between 0 and 10 to indicate the level of tempo in your playlist.\n",
      " \n",
      "0 = Minimum tempo \n",
      "10 = Maximum tempo \n",
      " \n",
      "Please enter a whole number between 0 and 10: 7\n",
      "\n",
      "You've selected 7 out of 10, for tempo.\n",
      "\n",
      "Please wait, this may take a while.\n",
      "\n",
      "\n",
      "Your recommended songs are:\n",
      "\n",
      "–––––––––––––––––––––––––––––––––––––––––––––––––––––––––––––––––––––––––––––––––––––––––––––\n",
      "Mood Rings\n",
      "\n",
      "By:\n",
      "Relient K\n",
      "\n",
      "–––––––––––––––––––––––––––––––––––––––––––––––––––––––––––––––––––––––––––––––––––––––––––––\n",
      "It All Comes Out in the Wash\n",
      "\n",
      "By:\n",
      "Miranda Lambert\n",
      "\n",
      "–––––––––––––––––––––––––––––––––––––––––––––––––––––––––––––––––––––––––––––––––––––––––––––\n",
      "Visit\n",
      "\n",
      "By:\n",
      "311\n",
      "\n",
      "–––––––––––––––––––––––––––––––––––––––––––––––––––––––––––––––––––––––––––––––––––––––––––––\n",
      "Speak to My Heart\n",
      "\n",
      "By:\n",
      "Donnie McClurkin\n",
      "\n",
      "–––––––––––––––––––––––––––––––––––––––––––––––––––––––––––––––––––––––––––––––––––––––––––––\n",
      "Come On In My Kitchen\n",
      "\n",
      "By:\n",
      "Jo Ann Kelly\n",
      "\n",
      "–––––––––––––––––––––––––––––––––––––––––––––––––––––––––––––––––––––––––––––––––––––––––––––\n",
      "\n",
      "Thank you for using our Spotify playlist curator!\n"
     ]
    }
   ],
   "source": [
    "\n",
    "\n",
    "metrics = validate_selected_features(features_lst)\n",
    "num_songs = validate_num_songs()\n",
    "not_explicit = validate_explicit()\n",
    "\n",
    "if num_songs == 170654 and not_explicit:\n",
    "    print(\"You've selected the maximum number of songs in our database. By removing explicit songs you will receive less than 170,654 song suggestions.\")\n",
    "\n",
    "if len(metrics) == 1:\n",
    "    feature_weight = validate_user_input(metrics[0])\n",
    "    feature_range = get_selected_feature_value(Data_DF, metrics[0], feature_weight)\n",
    "    print(\"Please wait a moment, it may take a few minutes to curate your song selection.\\n\")\n",
    "    sorted_df = find_value_difference(Data_DF, metrics[0], feature_range)\n",
    "    \n",
    "    if num_songs == 170654 and not_explicit:\n",
    "        none_explicit_df = sorted_df[sorted_df['explicit'] !=1]\n",
    "        filtered_df = none_explicit_df[:]\n",
    "    elif not_explicit:\n",
    "        none_explicit_df = sorted_df[sorted_df['explicit'] !=1]\n",
    "        filtered_df = none_explicit_df[:num_songs]\n",
    "    else:\n",
    "        filtered_df = sorted_df[:num_songs]\n",
    "                \n",
    "    print(\"Your recommended songs are:\\n\")\n",
    "    return_songs_artist(filtered_df)\n",
    "    print(\"\\nThank you for using our Spotify playlist curator!\")\n",
    "\n",
    "else:\n",
    "    if num_songs == 170654:\n",
    "        temp_num_songs = num_songs\n",
    "    elif num_songs*len(metrics) > 170654:\n",
    "        temp_num_songs = 170654\n",
    "    elif not_explicit and num_songs < num_explicit:\n",
    "        temp_num_songs = (num_songs*len(metrics))+num_explicit\n",
    "    else:\n",
    "        temp_num_songs = num_songs*len(metrics)\n",
    "        \n",
    "    multiple_feat_df = Data_DF\n",
    "    for i in metrics:\n",
    "        feature_weight = validate_user_input(i)\n",
    "        feature_range = get_selected_feature_value(multiple_feat_df, i, feature_weight)\n",
    "        print(\"Please wait, this may take a while.\\n\")\n",
    "        print()\n",
    "        sorted_df = find_value_difference(multiple_feat_df, i, feature_range)\n",
    "        multiple_feat_df = sorted_df[:temp_num_songs]\n",
    "        temp_num_songs = temp_num_songs - len(metrics)\n",
    "    \n",
    "    if not_explicit:\n",
    "        none_explicit_df = multiple_feat_df[multiple_feat_df['explicit'] !=1]\n",
    "        filtered_df = none_explicit_df[:num_songs]\n",
    "    else:\n",
    "        filtered_df = multiple_feat_df[:num_songs]\n",
    "                \n",
    "    print(\"Your recommended songs are:\\n\")\n",
    "    return_songs_artist(filtered_df)\n",
    "    print(\"\\nThank you for using our Spotify playlist curator!\")\n",
    "        "
   ]
  },
  {
   "cell_type": "code",
   "execution_count": null,
   "metadata": {},
   "outputs": [],
   "source": []
  },
  {
   "cell_type": "code",
   "execution_count": null,
   "metadata": {},
   "outputs": [],
   "source": [
    "small_DF = New_DF.loc[New_DF.index[0:len(output)]]"
   ]
  },
  {
   "cell_type": "code",
   "execution_count": null,
   "metadata": {},
   "outputs": [],
   "source": [
    "import matplotlib.pyplot as plt\n",
    "import numpy as np\n",
    "\n",
    "labels = small_DF['name'] #labels of the bars\n",
    "energy_levels = small_DF['energy'] #energy levels\n",
    "dance_levels= small_DF['danceability'] #dance levels\n",
    "liveness_levels = small_DF['liveness'] #liveness levels\n",
    "\n",
    "x = np.arange(len(labels))  #get values for interval\n",
    "bar_w = 0.2  # set width of bars\n",
    "\n",
    "f, ax = plt.subplots(figsize = (10,7)) #make the plot, custom size\n",
    "bar1 = ax.bar(x - bar_w/2, energy_levels, bar_w, label='Energy') #set the bars\n",
    "bar2 = ax.bar(x + bar_w/2, dance_levels, bar_w, label='Danceability')\n",
    "bar3 = ax.bar(x + 3*(bar_w/2), liveness_levels, bar_w, label='Liveness')\n",
    "\n",
    "# Adding text\n",
    "ax.set_ylabel('Level')\n",
    "ax.set_xlabel('Song Title')\n",
    "ax.set_title('Song Metrics')\n",
    "ax.set_xticks(x)\n",
    "ax.set_xticklabels(labels)\n",
    "ax.legend()\n",
    "f.autofmt_xdate() #make space for the labels \n",
    "\n",
    "f.tight_layout()\n",
    "plt.show() #display the graph"
   ]
  },
  {
   "cell_type": "code",
   "execution_count": null,
   "metadata": {},
   "outputs": [],
   "source": []
  }
 ],
 "metadata": {
  "kernelspec": {
   "display_name": "Python 3",
   "language": "python",
   "name": "python3"
  },
  "language_info": {
   "codemirror_mode": {
    "name": "ipython",
    "version": 3
   },
   "file_extension": ".py",
   "mimetype": "text/x-python",
   "name": "python",
   "nbconvert_exporter": "python",
   "pygments_lexer": "ipython3",
   "version": "3.7.3"
  }
 },
 "nbformat": 4,
 "nbformat_minor": 4
}
