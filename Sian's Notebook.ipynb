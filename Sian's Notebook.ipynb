{
 "cells": [
  {
   "cell_type": "code",
   "execution_count": 48,
   "metadata": {},
   "outputs": [],
   "source": [
    "import pandas  ## This is the module for creating and manipulating DataFrames\n",
    "\n",
    "Data_DF = pandas.read_csv(\"data.csv\")"
   ]
  },
  {
   "cell_type": "code",
   "execution_count": 49,
   "metadata": {},
   "outputs": [
    {
     "data": {
      "text/plain": [
       "Index(['valence', 'year', 'acousticness', 'artists', 'danceability',\n",
       "       'duration_ms', 'energy', 'explicit', 'id', 'instrumentalness', 'key',\n",
       "       'liveness', 'loudness', 'mode', 'name', 'popularity', 'release_date',\n",
       "       'speechiness', 'tempo'],\n",
       "      dtype='object')"
      ]
     },
     "execution_count": 49,
     "metadata": {},
     "output_type": "execute_result"
    }
   ],
   "source": [
    "Data_DF.columns"
   ]
  },
  {
   "cell_type": "markdown",
   "metadata": {},
   "source": [
    "In this document there will be multiple functions, each of which will take in a data frame and return a sorted data frame"
   ]
  },
  {
   "cell_type": "markdown",
   "metadata": {},
   "source": [
    "The following function takes in a database and one of the column titles (as a string) and returns the same database sorted with the relevant feature."
   ]
  },
  {
   "cell_type": "code",
   "execution_count": 50,
   "metadata": {},
   "outputs": [],
   "source": [
    "def sort_bts_data(DF_DF, feature):\n",
    "    Database_DF = DF_DF.sort_values(by=[feature], ascending=False)\n",
    "    return Database_DF\n",
    "\n",
    "def sort_stb_data(DF_DF, feature):\n",
    "    Database_DF = DF_DF.sort_values(by=[feature], ascending=True)\n",
    "    return Database_DF\n",
    "\n",
    "#sort_stb_data(Data_DF, \"energy\")"
   ]
  },
  {
   "cell_type": "markdown",
   "metadata": {},
   "source": [
    "The following function takes in a database, a column title (as a string) and two float numbers. The function returns the section of the original database that has the column value between the two numbers."
   ]
  },
  {
   "cell_type": "code",
   "execution_count": 51,
   "metadata": {},
   "outputs": [],
   "source": [
    "def limit_data(DF_DF, feature, float1, float2):\n",
    "    filter_DF = DF_DF[DF_DF[feature] >= float1]\n",
    "    refilter_DF = DF_DF[DF_DF[feature] <= float2]\n",
    "    return refilter_DF\n",
    "\n",
    "#limit_data(Data_DF, \"energy\", 0.1, 0.3)"
   ]
  },
  {
   "cell_type": "markdown",
   "metadata": {},
   "source": [
    "The function below takes in a database, function and float number and returns the database ordered by closest to that value."
   ]
  },
  {
   "cell_type": "code",
   "execution_count": 52,
   "metadata": {},
   "outputs": [],
   "source": [
    "def single_order_data(DF_DF, feature, float1):\n",
    "    #Want here a database that is the same length as original, but that is ordered by how close the songs feature value is to \n",
    "    #float1\n",
    "    difference = []\n",
    "    for i, row in DF_DF.iterrows():\n",
    "        difference.append(abs(row[feature] - float1))\n",
    "    DF_DF['difference'] = difference\n",
    "    New_DF = DF_DF.sort_values(by=['difference'], ascending = True)\n",
    "    del New_DF['difference'] \n",
    "    return New_DF\n",
    "\n",
    "#single_order_data(Data_DF, \"energy\", 0.4)"
   ]
  },
  {
   "cell_type": "markdown",
   "metadata": {},
   "source": [
    "The function below takes in a dataframe and the function returns the dataframe with all explicit songs removed. "
   ]
  },
  {
   "cell_type": "code",
   "execution_count": 62,
   "metadata": {},
   "outputs": [],
   "source": [
    "def no_explicit(DF_DF):\n",
    "    for i, row in DF_DF.iterrows():\n",
    "        ex_DF = DF_DF[DF_DF[\"explicit\"] == 0]\n",
    "    return ex_DF\n"
   ]
  },
  {
   "cell_type": "markdown",
   "metadata": {},
   "source": [
    "The function below takes in a dataframe and returns a list of lists, with each list containing the name and artist of recommended songs."
   ]
  },
  {
   "cell_type": "code",
   "execution_count": 63,
   "metadata": {},
   "outputs": [],
   "source": [
    "def return_songs_artist(DF_DF):\n",
    "    name_list = DF_DF['name'].values.tolist()\n",
    "    artist_list = DF_DF['artists'].values.tolist()\n",
    "    the_list=[]\n",
    "    for i in range(len(name_list)):\n",
    "        the_list.append([name_list[i],artist_list[i]])\n",
    "    return the_list    \n",
    "\n",
    "#return_songs_artist(Data_DF)"
   ]
  },
  {
   "cell_type": "markdown",
   "metadata": {},
   "source": [
    "The following function allows the user to say how many songs they would like suggested"
   ]
  },
  {
   "cell_type": "code",
   "execution_count": 64,
   "metadata": {},
   "outputs": [],
   "source": [
    "def num_songs(DF_DF):\n",
    "    value = input(\"Please enter the number of songs you would like:\\n\")\n",
    "    no_songs = int(value)\n",
    "    return(DF_DF[:no_songs])\n",
    "\n",
    "#num_songs(Data_DF)"
   ]
  },
  {
   "cell_type": "markdown",
   "metadata": {},
   "source": [
    "The function below allows the user to pick a feature"
   ]
  },
  {
   "cell_type": "code",
   "execution_count": 65,
   "metadata": {},
   "outputs": [],
   "source": [
    "def pick_feature():\n",
    "    feature = input(\"Please enter one of the following: danceability, energy, liveness - \")\n",
    "    while True:\n",
    "        if feature != \"danceability\" and feature != \"energy\" and feature != \"liveness\":\n",
    "            feature = input(\"Please enter one of the following and check the spelling: danceability, energy, liveness - \")\n",
    "        else:\n",
    "            break   \n",
    "    return feature"
   ]
  },
  {
   "cell_type": "markdown",
   "metadata": {},
   "source": [
    "The function below allows the user to pick a number for the feature"
   ]
  },
  {
   "cell_type": "code",
   "execution_count": 66,
   "metadata": {},
   "outputs": [],
   "source": [
    "def pick_number(feature):\n",
    "    float1 = input(\"Please enter a number between 0 and 10 where 0 is no \" + feature + \" and 10 is lots of \" + feature + \"-\")\n",
    "    while True:\n",
    "        if not float1.isnumeric():\n",
    "            float1 = input(\"Please enter a NUMBER between 0 and 10 where 0 is no \" + feature + \" and 10 is lots of \" + feature + \"-\")\n",
    "        else:\n",
    "            break\n",
    "    float1 = int(float1)\n",
    "    return float1/10\n",
    "#pick_number(\"energy\")"
   ]
  },
  {
   "cell_type": "markdown",
   "metadata": {},
   "source": [
    "The function below allows the user to pick whether to include explicit songs"
   ]
  },
  {
   "cell_type": "code",
   "execution_count": 67,
   "metadata": {},
   "outputs": [],
   "source": [
    "def pick_explicit():\n",
    "    answer = input(\"Would you like to exclude explicit songs? Please enter Yes or No. \")\n",
    "    while True:\n",
    "        if answer.lower() != \"yes\" and answer.lower() != \"no\":\n",
    "            answer = input(\"Would you like to exclude explicit songs? Please only enter Yes or No. \")\n",
    "        else:\n",
    "            break\n",
    "    return answer"
   ]
  },
  {
   "cell_type": "markdown",
   "metadata": {},
   "source": [
    "Example of whole thing, when the user asks for a curated playlist:"
   ]
  },
  {
   "cell_type": "code",
   "execution_count": 70,
   "metadata": {},
   "outputs": [
    {
     "name": "stdout",
     "output_type": "stream",
     "text": [
      "Please enter one of the following: danceability, energy, liveness - danceability\n",
      "Please enter a number between 0 and 10 where 0 is no danceability and 10 is lots of danceability-6\n",
      "Would you like to exclude explicit songs? Please enter Yes or No. No\n",
      "Please be patient, this may take a few seconds\n",
      "Please enter the number of songs you would like:\n",
      "10\n",
      "Your recommended songs are: \n",
      "[['Sehnsucht', \"['Rammstein']\"], ['Hae Dil Bhi Diya To Kisko Diya', \"['Lata Mangeshkar']\"], ['Without You', \"['G-DRAGON', 'Rose']\"], ['Shootouts', \"['Nas']\"], ['La Flaca', \"['J.L.B. Y Cía']\"], ['愛在心口難開', \"['張淑美']\"], [\"Bravo pour le clown - Live à L'Olympia 1955\", \"['Édith Piaf']\"], ['Tennessee Stud', \"['Nitty Gritty Dirt Band', 'Doc Watson']\"], ['The Book I Read - 2005 Remaster', \"['Talking Heads']\"], ['Rock Me', \"['Steppenwolf']\"]]\n"
     ]
    }
   ],
   "source": [
    "feature = pick_feature()\n",
    "float1 = pick_number(feature)\n",
    "answer = pick_explicit()\n",
    "#Take the explicit songs out of Data_DF if answer is yes\n",
    "if answer.lower() == \"yes\":\n",
    "    Data_DF = no_explicit(Data_DF)\n",
    "print(\"Please be patient, this may take a few seconds\")\n",
    "New_DF = single_order_data(Data_DF,feature,float1)\n",
    "N_songs_DF = num_songs(New_DF)\n",
    "output = return_songs_artist(N_songs_DF)\n",
    "\n",
    "print(\"Your recommended songs are: \")\n",
    "print(output)"
   ]
  },
  {
   "cell_type": "code",
   "execution_count": null,
   "metadata": {},
   "outputs": [],
   "source": []
  }
 ],
 "metadata": {
  "kernelspec": {
   "display_name": "Python 3",
   "language": "python",
   "name": "python3"
  },
  "language_info": {
   "codemirror_mode": {
    "name": "ipython",
    "version": 3
   },
   "file_extension": ".py",
   "mimetype": "text/x-python",
   "name": "python",
   "nbconvert_exporter": "python",
   "pygments_lexer": "ipython3",
   "version": "3.6.10"
  }
 },
 "nbformat": 4,
 "nbformat_minor": 4
}
