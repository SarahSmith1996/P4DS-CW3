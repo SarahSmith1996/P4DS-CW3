{
 "cells": [
  {
   "cell_type": "code",
   "execution_count": 1,
   "metadata": {},
   "outputs": [],
   "source": [
    "import pandas  ## This is the module for creating and manipulating DataFrames\n"
   ]
  },
  {
   "cell_type": "markdown",
   "metadata": {},
   "source": [
    "##  Config Variables"
   ]
  },
  {
   "cell_type": "code",
   "execution_count": 2,
   "metadata": {},
   "outputs": [],
   "source": [
    "#Name of csv file used for dataframe.\n",
    "relative_data_path = 'data.csv'"
   ]
  },
  {
   "cell_type": "markdown",
   "metadata": {},
   "source": [
    "## Functions"
   ]
  },
  {
   "cell_type": "markdown",
   "metadata": {},
   "source": [
    "**get_csv_data** – Takes the location of a csv file and returns a dataframe of the csv file."
   ]
  },
  {
   "cell_type": "code",
   "execution_count": 3,
   "metadata": {},
   "outputs": [],
   "source": [
    "def get_csv_data(location):\n",
    "\n",
    "    df = pandas.read_csv(location)\n",
    "    return df"
   ]
  },
  {
   "cell_type": "markdown",
   "metadata": {},
   "source": [
    "### Dataframe sorting funtions"
   ]
  },
  {
   "cell_type": "markdown",
   "metadata": {},
   "source": [
    "**sort_by_feature** – Takes a dataframe (df), a string columnnsme(feature) and a boolean (order). The dataframe will be sorted based on feature and the value of order. The sorted dataframe is returned."
   ]
  },
  {
   "cell_type": "code",
   "execution_count": 6,
   "metadata": {},
   "outputs": [],
   "source": [
    "def sort_bts_data(DF_DF, feature):\n",
    "    Database_DF = DF_DF.sort_values(by=[feature], ascending=False)\n",
    "    return Database_DF\n",
    "\n",
    "def sort_stb_data(DF_DF, feature):\n",
    "    Database_DF = DF_DF.sort_values(by=[feature], ascending=True)\n",
    "    return Database_DF\n",
    "\n",
    "#sort_stb_data(Data_DF, \"energy\")"
   ]
  },
  {
   "cell_type": "markdown",
   "metadata": {},
   "source": [
    "The following function takes in a database, a column title (as a string) and two float numbers. The function returns the section of the original database that has the column value between the two numbers."
   ]
  },
  {
   "cell_type": "code",
   "execution_count": 7,
   "metadata": {},
   "outputs": [],
   "source": [
    "def limit_data(DF_DF, feature, float1, float2):\n",
    "    filter_DF = DF_DF[DF_DF[feature] >= float1]\n",
    "    refilter_DF = DF_DF[DF_DF[feature] <= float2]\n",
    "    return refilter_DF\n",
    "\n",
    "#limit_data(Data_DF, \"energy\", 0.1, 0.3)"
   ]
  },
  {
   "cell_type": "markdown",
   "metadata": {},
   "source": [
    "The function below takes in a database, function and float number and returns the database ordered by closest to that value."
   ]
  },
  {
   "cell_type": "code",
   "execution_count": 8,
   "metadata": {},
   "outputs": [],
   "source": [
    "def single_order_data(DF_DF, feature, float1):\n",
    "    #Want here a database that is the same length as original, but that is ordered by how close the songs feature value is to \n",
    "    #float1\n",
    "    difference = []\n",
    "    for i, row in DF_DF.iterrows():\n",
    "        difference.append(abs(row[feature] - float1))\n",
    "    DF_DF['difference'] = difference\n",
    "    New_DF = DF_DF.sort_values(by=['difference'], ascending = True)\n",
    "    del New_DF['difference'] \n",
    "    return New_DF\n",
    "\n",
    "#single_order_data(Data_DF, \"energy\", 0.4)"
   ]
  },
  {
   "cell_type": "markdown",
   "metadata": {},
   "source": [
    "The function below takes in a dataframe and the function returns the dataframe with all explicit songs removed. "
   ]
  },
  {
   "cell_type": "code",
   "execution_count": 9,
   "metadata": {},
   "outputs": [],
   "source": [
    "def no_explicit(DF_DF):\n",
    "    for i, row in DF_DF.iterrows():\n",
    "        ex_DF = DF_DF[DF_DF[\"explicit\"] == 0]\n",
    "    return ex_DF\n"
   ]
  },
  {
   "cell_type": "markdown",
   "metadata": {},
   "source": [
    "The function below takes in a dataframe and returns a list of lists, with each list containing the name and artist of recommended songs."
   ]
  },
  {
   "cell_type": "code",
   "execution_count": 10,
   "metadata": {},
   "outputs": [],
   "source": [
    "def return_songs_artist(DF_DF):\n",
    "    name_list = DF_DF['name'].values.tolist()\n",
    "    artist_list = DF_DF['artists'].values.tolist()\n",
    "    the_list=[]\n",
    "    for i in range(len(name_list)):\n",
    "        the_list.append([name_list[i],artist_list[i]])\n",
    "    return the_list    \n",
    "\n",
    "#return_songs_artist(Data_DF)"
   ]
  },
  {
   "cell_type": "markdown",
   "metadata": {},
   "source": [
    "The following function allows the user to say how many songs they would like suggested"
   ]
  },
  {
   "cell_type": "code",
   "execution_count": 11,
   "metadata": {},
   "outputs": [],
   "source": [
    "def num_songs(DF_DF):\n",
    "    value = input(\"Please enter the number of songs you would like:\\n\")\n",
    "    no_songs = int(value)\n",
    "    return(DF_DF[:no_songs])\n",
    "\n",
    "#num_songs(Data_DF)"
   ]
  },
  {
   "cell_type": "markdown",
   "metadata": {},
   "source": [
    "The function below allows the user to pick a feature"
   ]
  },
  {
   "cell_type": "code",
   "execution_count": 12,
   "metadata": {},
   "outputs": [],
   "source": [
    "def pick_feature():\n",
    "    feature = input(\"Please enter one of the following: danceability, energy, liveness - \")\n",
    "    while True:\n",
    "        if feature != \"danceability\" and feature != \"energy\" and feature != \"liveness\":\n",
    "            feature = input(\"Please enter one of the following and check the spelling: danceability, energy, liveness - \")\n",
    "        else:\n",
    "            break   \n",
    "    return feature"
   ]
  },
  {
   "cell_type": "markdown",
   "metadata": {},
   "source": [
    "The function below allows the user to pick a number for the feature"
   ]
  },
  {
   "cell_type": "code",
   "execution_count": 13,
   "metadata": {},
   "outputs": [],
   "source": [
    "def pick_number(feature):\n",
    "    float1 = input(\"Please enter a number between 0 and 10 where 0 is no \" + feature + \" and 10 is lots of \" + feature + \"-\")\n",
    "    while True:\n",
    "        if not float1.isnumeric():\n",
    "            float1 = input(\"Please enter a NUMBER between 0 and 10 where 0 is no \" + feature + \" and 10 is lots of \" + feature + \"-\")\n",
    "        else:\n",
    "            break\n",
    "    float1 = int(float1)\n",
    "    return float1/10\n",
    "#pick_number(\"energy\")"
   ]
  },
  {
   "cell_type": "markdown",
   "metadata": {},
   "source": [
    "The function below allows the user to pick whether to include explicit songs"
   ]
  },
  {
   "cell_type": "code",
   "execution_count": 14,
   "metadata": {},
   "outputs": [],
   "source": [
    "def pick_explicit():\n",
    "    answer = input(\"Would you like to exclude explicit songs? Please enter Yes or No. \")\n",
    "    while True:\n",
    "        if answer.lower() != \"yes\" and answer.lower() != \"no\":\n",
    "            answer = input(\"Would you like to exclude explicit songs? Please only enter Yes or No. \")\n",
    "        else:\n",
    "            break\n",
    "    return answer"
   ]
  },
  {
   "cell_type": "markdown",
   "metadata": {},
   "source": [
    "Example of whole thing, when the user asks for a curated playlist:"
   ]
  },
  {
   "cell_type": "code",
   "execution_count": 15,
   "metadata": {},
   "outputs": [
    {
     "name": "stdout",
     "output_type": "stream",
     "text": [
      "Please enter one of the following: danceability, energy, liveness - dancaability\n",
      "Please enter one of the following and check the spelling: danceability, energy, liveness - danceability\n",
      "Please enter a number between 0 and 10 where 0 is no danceability and 10 is lots of danceability-8\n",
      "Would you like to exclude explicit songs? Please enter Yes or No. no\n",
      "Please be patient, this may take a few seconds\n",
      "Please enter the number of songs you would like:\n",
      "5\n",
      "Your recommended songs are: \n",
      "[['Like No One Does', \"['Jake Scott']\"], ['Wake Up in the Sky', \"['Gucci Mane', 'Bruno Mars', 'Kodak Black']\"], ['Voodoo Dreams', \"['Martin Denny']\"], ['Sueno De Amor', \"['Los Caminantes']\"], ['Jungle Man', \"['The Meters']\"]]\n"
     ]
    }
   ],
   "source": [
    "feature = pick_feature()\n",
    "float1 = pick_number(feature)\n",
    "answer = pick_explicit()\n",
    "#Take the explicit songs out of Data_DF if answer is yes\n",
    "if answer.lower() == \"yes\":\n",
    "    Data_DF = no_explicit(Data_DF)\n",
    "print(\"Please be patient, this may take a few seconds\")\n",
    "New_DF = single_order_data(Data_DF,feature,float1)\n",
    "N_songs_DF = num_songs(New_DF)\n",
    "output = return_songs_artist(N_songs_DF)\n",
    "\n",
    "print(\"Your recommended songs are: \")\n",
    "print(output)"
   ]
  },
  {
   "cell_type": "code",
   "execution_count": null,
   "metadata": {},
   "outputs": [],
   "source": [
    "Data_DF.columns"
   ]
  },
  {
   "cell_type": "code",
   "execution_count": null,
   "metadata": {},
   "outputs": [],
   "source": [
    "Data_DF = get_csv_data(relative_data_path)"
   ]
  }
 ],
 "metadata": {
  "kernelspec": {
   "display_name": "Python 3",
   "language": "python",
   "name": "python3"
  },
  "language_info": {
   "codemirror_mode": {
    "name": "ipython",
    "version": 3
   },
   "file_extension": ".py",
   "mimetype": "text/x-python",
   "name": "python",
   "nbconvert_exporter": "python",
   "pygments_lexer": "ipython3",
   "version": "3.7.3"
  }
 },
 "nbformat": 4,
 "nbformat_minor": 4
}
