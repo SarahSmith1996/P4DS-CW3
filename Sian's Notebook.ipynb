{
 "cells": [
  {
   "cell_type": "code",
   "execution_count": 16,
   "metadata": {},
   "outputs": [],
   "source": [
    "import pandas  ## This is the module for creating and manipulating DataFrames\n"
   ]
  },
  {
   "cell_type": "markdown",
   "metadata": {},
   "source": [
    "##  Config Variables"
   ]
  },
  {
   "cell_type": "code",
   "execution_count": 17,
   "metadata": {},
   "outputs": [],
   "source": [
    "#Name of csv file used for dataframe.\n",
    "relative_data_path = 'data.csv'"
   ]
  },
  {
   "cell_type": "markdown",
   "metadata": {},
   "source": [
    "## Functions"
   ]
  },
  {
   "cell_type": "markdown",
   "metadata": {},
   "source": [
    "**get_csv_data** – Takes the location of a csv file and returns a dataframe of the csv file."
   ]
  },
  {
   "cell_type": "code",
   "execution_count": 18,
   "metadata": {},
   "outputs": [],
   "source": [
    "def get_csv_data(location):\n",
    "\n",
    "    df = pandas.read_csv(location)\n",
    "    return df"
   ]
  },
  {
   "cell_type": "markdown",
   "metadata": {},
   "source": [
    "### Dataframe sorting and filtering funtions"
   ]
  },
  {
   "cell_type": "markdown",
   "metadata": {},
   "source": [
    "**sort_by_feature** – Takes a dataframe (df), a string columnnsme (feature) and a boolean (order). The dataframe will be sorted based on feature and the value of order. The sorted dataframe is returned."
   ]
  },
  {
   "cell_type": "code",
   "execution_count": 6,
   "metadata": {},
   "outputs": [],
   "source": [
    "def sort_by_feature(df, feature, order):\n",
    "    sorted_df = df.sort_values(by=[feature], ascending=order)\n",
    "    return sorted_df\n",
    "\n",
    "#sort_by_feature(df, \"energy\", True)"
   ]
  },
  {
   "cell_type": "markdown",
   "metadata": {},
   "source": [
    "**data_by_feature_range** – Takes a datframe(df), a string columnname (feature) and two floats (lower_lim upper_lim). Dataframe is filtered based on feature within a lower and upper value limit. Returns dataframe within the feature limits."
   ]
  },
  {
   "cell_type": "code",
   "execution_count": 22,
   "metadata": {},
   "outputs": [
    {
     "data": {
      "text/html": [
       "<div>\n",
       "<style scoped>\n",
       "    .dataframe tbody tr th:only-of-type {\n",
       "        vertical-align: middle;\n",
       "    }\n",
       "\n",
       "    .dataframe tbody tr th {\n",
       "        vertical-align: top;\n",
       "    }\n",
       "\n",
       "    .dataframe thead th {\n",
       "        text-align: right;\n",
       "    }\n",
       "</style>\n",
       "<table border=\"1\" class=\"dataframe\">\n",
       "  <thead>\n",
       "    <tr style=\"text-align: right;\">\n",
       "      <th></th>\n",
       "      <th>valence</th>\n",
       "      <th>year</th>\n",
       "      <th>acousticness</th>\n",
       "      <th>artists</th>\n",
       "      <th>danceability</th>\n",
       "      <th>duration_ms</th>\n",
       "      <th>energy</th>\n",
       "      <th>explicit</th>\n",
       "      <th>id</th>\n",
       "      <th>instrumentalness</th>\n",
       "      <th>key</th>\n",
       "      <th>liveness</th>\n",
       "      <th>loudness</th>\n",
       "      <th>mode</th>\n",
       "      <th>name</th>\n",
       "      <th>popularity</th>\n",
       "      <th>release_date</th>\n",
       "      <th>speechiness</th>\n",
       "      <th>tempo</th>\n",
       "    </tr>\n",
       "  </thead>\n",
       "  <tbody>\n",
       "    <tr>\n",
       "      <th>0</th>\n",
       "      <td>0.0594</td>\n",
       "      <td>1921</td>\n",
       "      <td>0.982</td>\n",
       "      <td>['Sergei Rachmaninoff', 'James Levine', 'Berli...</td>\n",
       "      <td>0.279</td>\n",
       "      <td>831667</td>\n",
       "      <td>0.211</td>\n",
       "      <td>0</td>\n",
       "      <td>4BJqT0PrAfrxzMOxytFOIz</td>\n",
       "      <td>0.878000</td>\n",
       "      <td>10</td>\n",
       "      <td>0.6650</td>\n",
       "      <td>-20.096</td>\n",
       "      <td>1</td>\n",
       "      <td>Piano Concerto No. 3 in D Minor, Op. 30: III. ...</td>\n",
       "      <td>4</td>\n",
       "      <td>1921</td>\n",
       "      <td>0.0366</td>\n",
       "      <td>80.954</td>\n",
       "    </tr>\n",
       "    <tr>\n",
       "      <th>2</th>\n",
       "      <td>0.0394</td>\n",
       "      <td>1921</td>\n",
       "      <td>0.961</td>\n",
       "      <td>['KHP Kridhamardawa Karaton Ngayogyakarta Hadi...</td>\n",
       "      <td>0.328</td>\n",
       "      <td>500062</td>\n",
       "      <td>0.166</td>\n",
       "      <td>0</td>\n",
       "      <td>1o6I8BglA6ylDMrIELygv1</td>\n",
       "      <td>0.913000</td>\n",
       "      <td>3</td>\n",
       "      <td>0.1010</td>\n",
       "      <td>-14.850</td>\n",
       "      <td>1</td>\n",
       "      <td>Gati Bali</td>\n",
       "      <td>5</td>\n",
       "      <td>1921</td>\n",
       "      <td>0.0339</td>\n",
       "      <td>110.339</td>\n",
       "    </tr>\n",
       "    <tr>\n",
       "      <th>4</th>\n",
       "      <td>0.2530</td>\n",
       "      <td>1921</td>\n",
       "      <td>0.957</td>\n",
       "      <td>['Phil Regan']</td>\n",
       "      <td>0.418</td>\n",
       "      <td>166693</td>\n",
       "      <td>0.193</td>\n",
       "      <td>0</td>\n",
       "      <td>4d6HGyGT8e121BsdKmw9v6</td>\n",
       "      <td>0.000002</td>\n",
       "      <td>3</td>\n",
       "      <td>0.2290</td>\n",
       "      <td>-10.096</td>\n",
       "      <td>1</td>\n",
       "      <td>When Irish Eyes Are Smiling</td>\n",
       "      <td>2</td>\n",
       "      <td>1921</td>\n",
       "      <td>0.0380</td>\n",
       "      <td>101.665</td>\n",
       "    </tr>\n",
       "    <tr>\n",
       "      <th>6</th>\n",
       "      <td>0.4060</td>\n",
       "      <td>1921</td>\n",
       "      <td>0.996</td>\n",
       "      <td>['John McCormack']</td>\n",
       "      <td>0.518</td>\n",
       "      <td>159507</td>\n",
       "      <td>0.203</td>\n",
       "      <td>0</td>\n",
       "      <td>5uNZnElqOS3W4fRmRYPk4T</td>\n",
       "      <td>0.000000</td>\n",
       "      <td>0</td>\n",
       "      <td>0.1150</td>\n",
       "      <td>-10.589</td>\n",
       "      <td>1</td>\n",
       "      <td>The Wearing of the Green</td>\n",
       "      <td>4</td>\n",
       "      <td>1921</td>\n",
       "      <td>0.0615</td>\n",
       "      <td>66.221</td>\n",
       "    </tr>\n",
       "    <tr>\n",
       "      <th>8</th>\n",
       "      <td>0.7210</td>\n",
       "      <td>1921</td>\n",
       "      <td>0.996</td>\n",
       "      <td>['Ignacio Corsini']</td>\n",
       "      <td>0.485</td>\n",
       "      <td>161520</td>\n",
       "      <td>0.130</td>\n",
       "      <td>0</td>\n",
       "      <td>05xDjWH9ub67nJJk82yfGf</td>\n",
       "      <td>0.151000</td>\n",
       "      <td>5</td>\n",
       "      <td>0.1040</td>\n",
       "      <td>-21.508</td>\n",
       "      <td>0</td>\n",
       "      <td>La Mañanita - Remasterizado</td>\n",
       "      <td>0</td>\n",
       "      <td>1921-03-20</td>\n",
       "      <td>0.0483</td>\n",
       "      <td>64.678</td>\n",
       "    </tr>\n",
       "    <tr>\n",
       "      <th>...</th>\n",
       "      <td>...</td>\n",
       "      <td>...</td>\n",
       "      <td>...</td>\n",
       "      <td>...</td>\n",
       "      <td>...</td>\n",
       "      <td>...</td>\n",
       "      <td>...</td>\n",
       "      <td>...</td>\n",
       "      <td>...</td>\n",
       "      <td>...</td>\n",
       "      <td>...</td>\n",
       "      <td>...</td>\n",
       "      <td>...</td>\n",
       "      <td>...</td>\n",
       "      <td>...</td>\n",
       "      <td>...</td>\n",
       "      <td>...</td>\n",
       "      <td>...</td>\n",
       "      <td>...</td>\n",
       "    </tr>\n",
       "    <tr>\n",
       "      <th>170562</th>\n",
       "      <td>0.2310</td>\n",
       "      <td>2020</td>\n",
       "      <td>0.754</td>\n",
       "      <td>['Mac Miller']</td>\n",
       "      <td>0.828</td>\n",
       "      <td>330507</td>\n",
       "      <td>0.182</td>\n",
       "      <td>0</td>\n",
       "      <td>1kwnxJNVl7cwcU98RvMBaR</td>\n",
       "      <td>0.070600</td>\n",
       "      <td>1</td>\n",
       "      <td>0.1500</td>\n",
       "      <td>-13.066</td>\n",
       "      <td>0</td>\n",
       "      <td>Surf</td>\n",
       "      <td>67</td>\n",
       "      <td>2020-01-17</td>\n",
       "      <td>0.1660</td>\n",
       "      <td>147.279</td>\n",
       "    </tr>\n",
       "    <tr>\n",
       "      <th>170565</th>\n",
       "      <td>0.2860</td>\n",
       "      <td>2020</td>\n",
       "      <td>0.924</td>\n",
       "      <td>['Kali Uchis']</td>\n",
       "      <td>0.443</td>\n",
       "      <td>123459</td>\n",
       "      <td>0.178</td>\n",
       "      <td>0</td>\n",
       "      <td>3uKkRicm0OvtCbynx02V8A</td>\n",
       "      <td>0.002220</td>\n",
       "      <td>6</td>\n",
       "      <td>0.0780</td>\n",
       "      <td>-14.831</td>\n",
       "      <td>0</td>\n",
       "      <td>ángel sin cielo</td>\n",
       "      <td>60</td>\n",
       "      <td>2020-11-18</td>\n",
       "      <td>0.0358</td>\n",
       "      <td>120.732</td>\n",
       "    </tr>\n",
       "    <tr>\n",
       "      <th>170601</th>\n",
       "      <td>0.7040</td>\n",
       "      <td>2020</td>\n",
       "      <td>0.711</td>\n",
       "      <td>['Marca MP']</td>\n",
       "      <td>0.623</td>\n",
       "      <td>227553</td>\n",
       "      <td>0.287</td>\n",
       "      <td>0</td>\n",
       "      <td>3ewS8DYitFRgZBv9X4f7qZ</td>\n",
       "      <td>0.000004</td>\n",
       "      <td>3</td>\n",
       "      <td>0.0663</td>\n",
       "      <td>-9.885</td>\n",
       "      <td>1</td>\n",
       "      <td>Que Fue Lo Que Paso</td>\n",
       "      <td>64</td>\n",
       "      <td>2020-07-03</td>\n",
       "      <td>0.0385</td>\n",
       "      <td>137.074</td>\n",
       "    </tr>\n",
       "    <tr>\n",
       "      <th>170633</th>\n",
       "      <td>0.3520</td>\n",
       "      <td>2020</td>\n",
       "      <td>0.886</td>\n",
       "      <td>['Tate McRae']</td>\n",
       "      <td>0.569</td>\n",
       "      <td>190652</td>\n",
       "      <td>0.271</td>\n",
       "      <td>0</td>\n",
       "      <td>2GSLoT7abyYGchSSDCpWEI</td>\n",
       "      <td>0.000000</td>\n",
       "      <td>10</td>\n",
       "      <td>0.1030</td>\n",
       "      <td>-10.969</td>\n",
       "      <td>1</td>\n",
       "      <td>Heather - Spotify Singles</td>\n",
       "      <td>64</td>\n",
       "      <td>2020-11-11</td>\n",
       "      <td>0.0271</td>\n",
       "      <td>91.888</td>\n",
       "    </tr>\n",
       "    <tr>\n",
       "      <th>170638</th>\n",
       "      <td>0.2100</td>\n",
       "      <td>2020</td>\n",
       "      <td>0.968</td>\n",
       "      <td>['Lana Del Rey']</td>\n",
       "      <td>0.234</td>\n",
       "      <td>186000</td>\n",
       "      <td>0.114</td>\n",
       "      <td>0</td>\n",
       "      <td>25Mld9UGdMqXYDU2x8l3ld</td>\n",
       "      <td>0.003910</td>\n",
       "      <td>11</td>\n",
       "      <td>0.1030</td>\n",
       "      <td>-19.136</td>\n",
       "      <td>0</td>\n",
       "      <td>Summertime The Gershwin Version</td>\n",
       "      <td>57</td>\n",
       "      <td>2020-11-19</td>\n",
       "      <td>0.0366</td>\n",
       "      <td>189.986</td>\n",
       "    </tr>\n",
       "  </tbody>\n",
       "</table>\n",
       "<p>40147 rows × 19 columns</p>\n",
       "</div>"
      ],
      "text/plain": [
       "        valence  year  acousticness  \\\n",
       "0        0.0594  1921         0.982   \n",
       "2        0.0394  1921         0.961   \n",
       "4        0.2530  1921         0.957   \n",
       "6        0.4060  1921         0.996   \n",
       "8        0.7210  1921         0.996   \n",
       "...         ...   ...           ...   \n",
       "170562   0.2310  2020         0.754   \n",
       "170565   0.2860  2020         0.924   \n",
       "170601   0.7040  2020         0.711   \n",
       "170633   0.3520  2020         0.886   \n",
       "170638   0.2100  2020         0.968   \n",
       "\n",
       "                                                  artists  danceability  \\\n",
       "0       ['Sergei Rachmaninoff', 'James Levine', 'Berli...         0.279   \n",
       "2       ['KHP Kridhamardawa Karaton Ngayogyakarta Hadi...         0.328   \n",
       "4                                          ['Phil Regan']         0.418   \n",
       "6                                      ['John McCormack']         0.518   \n",
       "8                                     ['Ignacio Corsini']         0.485   \n",
       "...                                                   ...           ...   \n",
       "170562                                     ['Mac Miller']         0.828   \n",
       "170565                                     ['Kali Uchis']         0.443   \n",
       "170601                                       ['Marca MP']         0.623   \n",
       "170633                                     ['Tate McRae']         0.569   \n",
       "170638                                   ['Lana Del Rey']         0.234   \n",
       "\n",
       "        duration_ms  energy  explicit                      id  \\\n",
       "0            831667   0.211         0  4BJqT0PrAfrxzMOxytFOIz   \n",
       "2            500062   0.166         0  1o6I8BglA6ylDMrIELygv1   \n",
       "4            166693   0.193         0  4d6HGyGT8e121BsdKmw9v6   \n",
       "6            159507   0.203         0  5uNZnElqOS3W4fRmRYPk4T   \n",
       "8            161520   0.130         0  05xDjWH9ub67nJJk82yfGf   \n",
       "...             ...     ...       ...                     ...   \n",
       "170562       330507   0.182         0  1kwnxJNVl7cwcU98RvMBaR   \n",
       "170565       123459   0.178         0  3uKkRicm0OvtCbynx02V8A   \n",
       "170601       227553   0.287         0  3ewS8DYitFRgZBv9X4f7qZ   \n",
       "170633       190652   0.271         0  2GSLoT7abyYGchSSDCpWEI   \n",
       "170638       186000   0.114         0  25Mld9UGdMqXYDU2x8l3ld   \n",
       "\n",
       "        instrumentalness  key  liveness  loudness  mode  \\\n",
       "0               0.878000   10    0.6650   -20.096     1   \n",
       "2               0.913000    3    0.1010   -14.850     1   \n",
       "4               0.000002    3    0.2290   -10.096     1   \n",
       "6               0.000000    0    0.1150   -10.589     1   \n",
       "8               0.151000    5    0.1040   -21.508     0   \n",
       "...                  ...  ...       ...       ...   ...   \n",
       "170562          0.070600    1    0.1500   -13.066     0   \n",
       "170565          0.002220    6    0.0780   -14.831     0   \n",
       "170601          0.000004    3    0.0663    -9.885     1   \n",
       "170633          0.000000   10    0.1030   -10.969     1   \n",
       "170638          0.003910   11    0.1030   -19.136     0   \n",
       "\n",
       "                                                     name  popularity  \\\n",
       "0       Piano Concerto No. 3 in D Minor, Op. 30: III. ...           4   \n",
       "2                                               Gati Bali           5   \n",
       "4                             When Irish Eyes Are Smiling           2   \n",
       "6                                The Wearing of the Green           4   \n",
       "8                             La Mañanita - Remasterizado           0   \n",
       "...                                                   ...         ...   \n",
       "170562                                               Surf          67   \n",
       "170565                                    ángel sin cielo          60   \n",
       "170601                                Que Fue Lo Que Paso          64   \n",
       "170633                          Heather - Spotify Singles          64   \n",
       "170638                    Summertime The Gershwin Version          57   \n",
       "\n",
       "       release_date  speechiness    tempo  \n",
       "0              1921       0.0366   80.954  \n",
       "2              1921       0.0339  110.339  \n",
       "4              1921       0.0380  101.665  \n",
       "6              1921       0.0615   66.221  \n",
       "8        1921-03-20       0.0483   64.678  \n",
       "...             ...          ...      ...  \n",
       "170562   2020-01-17       0.1660  147.279  \n",
       "170565   2020-11-18       0.0358  120.732  \n",
       "170601   2020-07-03       0.0385  137.074  \n",
       "170633   2020-11-11       0.0271   91.888  \n",
       "170638   2020-11-19       0.0366  189.986  \n",
       "\n",
       "[40147 rows x 19 columns]"
      ]
     },
     "execution_count": 22,
     "metadata": {},
     "output_type": "execute_result"
    }
   ],
   "source": [
    "def data_by_feature_range(df, feature, lower_lim, upper_lim):\n",
    "    filter_DF = df[(df[feature] >= lower_lim) & (df[feature] <= upper_lim)]\n",
    "    return filter_DF\n",
    "\n",
    "data_by_feature_range(Data_DF, \"energy\", 0.1, 0.3)"
   ]
  },
  {
   "cell_type": "markdown",
   "metadata": {},
   "source": [
    "The function below takes in a database, function and float number and returns the database ordered by closest to that value."
   ]
  },
  {
   "cell_type": "code",
   "execution_count": 8,
   "metadata": {},
   "outputs": [],
   "source": [
    "def single_order_data(DF_DF, feature, float1):\n",
    "    #Want here a database that is the same length as original, but that is ordered by how close the songs feature value is to \n",
    "    #float1\n",
    "    difference = []\n",
    "    for i, row in DF_DF.iterrows():\n",
    "        difference.append(abs(row[feature] - float1))\n",
    "    DF_DF['difference'] = difference\n",
    "    New_DF = DF_DF.sort_values(by=['difference'], ascending = True)\n",
    "    del New_DF['difference'] \n",
    "    return New_DF\n",
    "\n",
    "#single_order_data(Data_DF, \"energy\", 0.4)"
   ]
  },
  {
   "cell_type": "markdown",
   "metadata": {},
   "source": [
    "The function below takes in a dataframe and the function returns the dataframe with all explicit songs removed. "
   ]
  },
  {
   "cell_type": "code",
   "execution_count": 9,
   "metadata": {},
   "outputs": [],
   "source": [
    "def no_explicit(DF_DF):\n",
    "    for i, row in DF_DF.iterrows():\n",
    "        ex_DF = DF_DF[DF_DF[\"explicit\"] == 0]\n",
    "    return ex_DF\n"
   ]
  },
  {
   "cell_type": "markdown",
   "metadata": {},
   "source": [
    "The function below takes in a dataframe and returns a list of lists, with each list containing the name and artist of recommended songs."
   ]
  },
  {
   "cell_type": "code",
   "execution_count": 10,
   "metadata": {},
   "outputs": [],
   "source": [
    "def return_songs_artist(DF_DF):\n",
    "    name_list = DF_DF['name'].values.tolist()\n",
    "    artist_list = DF_DF['artists'].values.tolist()\n",
    "    the_list=[]\n",
    "    for i in range(len(name_list)):\n",
    "        the_list.append([name_list[i],artist_list[i]])\n",
    "    return the_list    \n",
    "\n",
    "#return_songs_artist(Data_DF)"
   ]
  },
  {
   "cell_type": "markdown",
   "metadata": {},
   "source": [
    "The following function allows the user to say how many songs they would like suggested"
   ]
  },
  {
   "cell_type": "code",
   "execution_count": 11,
   "metadata": {},
   "outputs": [],
   "source": [
    "def num_songs(DF_DF):\n",
    "    value = input(\"Please enter the number of songs you would like:\\n\")\n",
    "    no_songs = int(value)\n",
    "    return(DF_DF[:no_songs])\n",
    "\n",
    "#num_songs(Data_DF)"
   ]
  },
  {
   "cell_type": "markdown",
   "metadata": {},
   "source": [
    "The function below allows the user to pick a feature"
   ]
  },
  {
   "cell_type": "code",
   "execution_count": 12,
   "metadata": {},
   "outputs": [],
   "source": [
    "def pick_feature():\n",
    "    feature = input(\"Please enter one of the following: danceability, energy, liveness - \")\n",
    "    while True:\n",
    "        if feature != \"danceability\" and feature != \"energy\" and feature != \"liveness\":\n",
    "            feature = input(\"Please enter one of the following and check the spelling: danceability, energy, liveness - \")\n",
    "        else:\n",
    "            break   \n",
    "    return feature"
   ]
  },
  {
   "cell_type": "markdown",
   "metadata": {},
   "source": [
    "The function below allows the user to pick a number for the feature"
   ]
  },
  {
   "cell_type": "code",
   "execution_count": 13,
   "metadata": {},
   "outputs": [],
   "source": [
    "def pick_number(feature):\n",
    "    float1 = input(\"Please enter a number between 0 and 10 where 0 is no \" + feature + \" and 10 is lots of \" + feature + \"-\")\n",
    "    while True:\n",
    "        if not float1.isnumeric():\n",
    "            float1 = input(\"Please enter a NUMBER between 0 and 10 where 0 is no \" + feature + \" and 10 is lots of \" + feature + \"-\")\n",
    "        else:\n",
    "            break\n",
    "    float1 = int(float1)\n",
    "    return float1/10\n",
    "#pick_number(\"energy\")"
   ]
  },
  {
   "cell_type": "markdown",
   "metadata": {},
   "source": [
    "The function below allows the user to pick whether to include explicit songs"
   ]
  },
  {
   "cell_type": "code",
   "execution_count": 14,
   "metadata": {},
   "outputs": [],
   "source": [
    "def pick_explicit():\n",
    "    answer = input(\"Would you like to exclude explicit songs? Please enter Yes or No. \")\n",
    "    while True:\n",
    "        if answer.lower() != \"yes\" and answer.lower() != \"no\":\n",
    "            answer = input(\"Would you like to exclude explicit songs? Please only enter Yes or No. \")\n",
    "        else:\n",
    "            break\n",
    "    return answer"
   ]
  },
  {
   "cell_type": "markdown",
   "metadata": {},
   "source": [
    "Example of whole thing, when the user asks for a curated playlist:"
   ]
  },
  {
   "cell_type": "code",
   "execution_count": 15,
   "metadata": {},
   "outputs": [
    {
     "name": "stdout",
     "output_type": "stream",
     "text": [
      "Please enter one of the following: danceability, energy, liveness - dancaability\n",
      "Please enter one of the following and check the spelling: danceability, energy, liveness - danceability\n",
      "Please enter a number between 0 and 10 where 0 is no danceability and 10 is lots of danceability-8\n",
      "Would you like to exclude explicit songs? Please enter Yes or No. no\n",
      "Please be patient, this may take a few seconds\n",
      "Please enter the number of songs you would like:\n",
      "5\n",
      "Your recommended songs are: \n",
      "[['Like No One Does', \"['Jake Scott']\"], ['Wake Up in the Sky', \"['Gucci Mane', 'Bruno Mars', 'Kodak Black']\"], ['Voodoo Dreams', \"['Martin Denny']\"], ['Sueno De Amor', \"['Los Caminantes']\"], ['Jungle Man', \"['The Meters']\"]]\n"
     ]
    }
   ],
   "source": [
    "feature = pick_feature()\n",
    "float1 = pick_number(feature)\n",
    "answer = pick_explicit()\n",
    "#Take the explicit songs out of Data_DF if answer is yes\n",
    "if answer.lower() == \"yes\":\n",
    "    Data_DF = no_explicit(Data_DF)\n",
    "print(\"Please be patient, this may take a few seconds\")\n",
    "New_DF = single_order_data(Data_DF,feature,float1)\n",
    "N_songs_DF = num_songs(New_DF)\n",
    "output = return_songs_artist(N_songs_DF)\n",
    "\n",
    "print(\"Your recommended songs are: \")\n",
    "print(output)"
   ]
  },
  {
   "cell_type": "code",
   "execution_count": null,
   "metadata": {},
   "outputs": [],
   "source": [
    "Data_DF.columns"
   ]
  },
  {
   "cell_type": "code",
   "execution_count": 19,
   "metadata": {},
   "outputs": [],
   "source": [
    "Data_DF = get_csv_data(relative_data_path)"
   ]
  },
  {
   "cell_type": "code",
   "execution_count": null,
   "metadata": {},
   "outputs": [],
   "source": []
  }
 ],
 "metadata": {
  "kernelspec": {
   "display_name": "Python 3",
   "language": "python",
   "name": "python3"
  },
  "language_info": {
   "codemirror_mode": {
    "name": "ipython",
    "version": 3
   },
   "file_extension": ".py",
   "mimetype": "text/x-python",
   "name": "python",
   "nbconvert_exporter": "python",
   "pygments_lexer": "ipython3",
   "version": "3.7.3"
  }
 },
 "nbformat": 4,
 "nbformat_minor": 4
}
