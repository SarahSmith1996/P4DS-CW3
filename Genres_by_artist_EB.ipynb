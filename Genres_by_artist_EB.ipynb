{
 "cells": [
  {
   "cell_type": "markdown",
   "metadata": {},
   "source": [
    "Recommend genres based on artist given"
   ]
  },
  {
   "cell_type": "code",
   "execution_count": 1,
   "metadata": {},
   "outputs": [],
   "source": [
    "import pandas as pd \n",
    "AG_DF = pd.read_csv(\"data_w_genres.csv\")"
   ]
  },
  {
   "cell_type": "markdown",
   "metadata": {},
   "source": [
    "Pre-processing DF to allow for case and space insensitivity"
   ]
  },
  {
   "cell_type": "code",
   "execution_count": 2,
   "metadata": {},
   "outputs": [],
   "source": [
    "#keep track of original artist names\n",
    "ag_df = AG_DF.copy(deep=True)\n",
    "#now make artists case and space insensitive for user input\n",
    "AG_DF['artists'] = AG_DF['artists'].str.replace(' ', '')\n",
    "AG_DF['artists'] = [x.lower() for x in AG_DF['artists']]\n",
    "artist_list = AG_DF['artists'].tolist()"
   ]
  },
  {
   "cell_type": "markdown",
   "metadata": {},
   "source": [
    "Function to allow user to select artist for input"
   ]
  },
  {
   "cell_type": "code",
   "execution_count": 3,
   "metadata": {},
   "outputs": [],
   "source": [
    "def select_artist():\n",
    "    artist_in = input(\"Please enter an artist to receive recommended genres: \")\n",
    "    artist_in = artist_in.replace(\" \", \"\").lower()\n",
    "    while True:\n",
    "        if artist_in not in artist_list:\n",
    "            artist_in = input(\"Please enter a verified Spotify artist: \")\n",
    "            artist_in = artist_in.replace(\" \", \"\").lower()\n",
    "        else:\n",
    "            break   \n",
    "    return artist_in"
   ]
  },
  {
   "cell_type": "markdown",
   "metadata": {},
   "source": [
    "Function that returns a list of genres associated with an artist"
   ]
  },
  {
   "cell_type": "code",
   "execution_count": 4,
   "metadata": {},
   "outputs": [],
   "source": [
    "def get_genres(artist):\n",
    "    genres = []\n",
    "    i = artist_list.index(artist)\n",
    "    if AG_DF['genres'][i] == '[]':\n",
    "        return False\n",
    "    return AG_DF['genres'][i]"
   ]
  },
  {
   "cell_type": "markdown",
   "metadata": {},
   "source": [
    "Request user to select an artist of their choice "
   ]
  },
  {
   "cell_type": "code",
   "execution_count": 5,
   "metadata": {},
   "outputs": [
    {
     "name": "stdout",
     "output_type": "stream",
     "text": [
      "Please enter an artist to receive recommended genres: talking heads\n"
     ]
    }
   ],
   "source": [
    "artist = select_artist()\n",
    "artist_display = ag_df['artists'][artist_list.index(artist)]"
   ]
  },
  {
   "cell_type": "markdown",
   "metadata": {},
   "source": [
    "Return a list of genres associated with the chosen artist "
   ]
  },
  {
   "cell_type": "code",
   "execution_count": 6,
   "metadata": {},
   "outputs": [
    {
     "name": "stdout",
     "output_type": "stream",
     "text": [
      "If you like Talking Heads we recommend the following genres: ['art punk', 'art rock', 'dance rock', 'funk rock', 'new wave', 'permanent wave', 'post-punk', 'rock', 'zolo']\n"
     ]
    }
   ],
   "source": [
    "if get_genres(artist) == False:\n",
    "    print('Sorry, there are no established genres associated with this artist')\n",
    "else:\n",
    "    print('If you like ' + artist_display + ' we recommend the following genres: ' + str(get_genres(artist)))"
   ]
  },
  {
   "cell_type": "code",
   "execution_count": null,
   "metadata": {},
   "outputs": [],
   "source": []
  }
 ],
 "metadata": {
  "kernelspec": {
   "display_name": "Python 3",
   "language": "python",
   "name": "python3"
  },
  "language_info": {
   "codemirror_mode": {
    "name": "ipython",
    "version": 3
   },
   "file_extension": ".py",
   "mimetype": "text/x-python",
   "name": "python",
   "nbconvert_exporter": "python",
   "pygments_lexer": "ipython3",
   "version": "3.5.6"
  }
 },
 "nbformat": 4,
 "nbformat_minor": 4
}
