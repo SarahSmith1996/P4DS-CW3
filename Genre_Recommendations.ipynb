{
 "cells": [
  {
   "cell_type": "markdown",
   "metadata": {},
   "source": [
    "This Notebook recommends other genres to the user based on a specified genre"
   ]
  },
  {
   "cell_type": "markdown",
   "metadata": {},
   "source": [
    "First create a DataFrame based on the csv file which contains information about genres"
   ]
  },
  {
   "cell_type": "code",
   "execution_count": 1,
   "metadata": {},
   "outputs": [],
   "source": [
    "import pandas as pd \n",
    "genre_DF = pd.read_csv(\"data_by_genres.csv\")"
   ]
  },
  {
   "cell_type": "code",
   "execution_count": 2,
   "metadata": {},
   "outputs": [],
   "source": [
    "import math"
   ]
  },
  {
   "cell_type": "markdown",
   "metadata": {},
   "source": [
    "First for some pre-processing of the data frame"
   ]
  },
  {
   "cell_type": "code",
   "execution_count": 3,
   "metadata": {},
   "outputs": [],
   "source": [
    "#get abs val of loudness column as all loudness values are negative \n",
    "genre_DF['loudness'] = genre_DF['loudness'].abs()\n",
    "#remove the empty genre\n",
    "genre_DF = genre_DF[genre_DF['genres'] != ('[]' or ' ' or '')]\n",
    "#keep track of original genres\n",
    "genre_df = genre_DF.copy(deep=True)\n",
    "#now make genres insensitive to spaces for user input\n",
    "genre_DF['genres'] = genre_DF['genres'].str.replace(' ', '')\n",
    "# Restrict DF to desired characteristics for comparison\n",
    "columns = ['acousticness', 'danceability', 'energy', 'instrumentalness', 'liveness', 'loudness', 'speechiness', 'tempo', 'valence', 'popularity']\n",
    "c_df = genre_DF[columns] \n",
    "#normalise columns using min-max normalisation\n",
    "genre_norm = (c_df-c_df.min())/(c_df.max()-c_df.min())\n",
    "genre_norm.fillna(0, inplace=True) #automatically set na vals to 0"
   ]
  },
  {
   "cell_type": "markdown",
   "metadata": {},
   "source": [
    "Define a function that returns the normalised vector for the given genre"
   ]
  },
  {
   "cell_type": "code",
   "execution_count": 4,
   "metadata": {},
   "outputs": [],
   "source": [
    "def normal_genre(genre):\n",
    "    given_g_norm = genre_norm[genre_DF[\"genres\"] == genre]\n",
    "    return given_g_norm"
   ]
  },
  {
   "cell_type": "markdown",
   "metadata": {},
   "source": [
    "Define simple euclidean distance function to calculate the distance regarding all characteristics"
   ]
  },
  {
   "cell_type": "code",
   "execution_count": 5,
   "metadata": {},
   "outputs": [],
   "source": [
    "def euclidean_distance(row):\n",
    "    given_g_norm = normal_genre(genre)\n",
    "    v = 0\n",
    "    for c in columns:\n",
    "        v += (row[c] - given_g_norm[c]) ** 2\n",
    "    return math.sqrt(v)"
   ]
  },
  {
   "cell_type": "markdown",
   "metadata": {},
   "source": [
    "Define function that sorts genres by similarity to input genre"
   ]
  },
  {
   "cell_type": "code",
   "execution_count": 6,
   "metadata": {},
   "outputs": [],
   "source": [
    "def similarity():\n",
    "# Find the similarity index for each other genre\n",
    "    genre_n_similarity = genre_norm.apply(euclidean_distance, axis=1)\n",
    "#Sort by ascending value: 0 represents exact similarity\n",
    "    genre_n_similarity = genre_n_similarity.sort_values(ascending= True)\n",
    "    return genre_n_similarity"
   ]
  },
  {
   "cell_type": "markdown",
   "metadata": {},
   "source": [
    "Get the index values of most similar genres with length equal to a given number"
   ]
  },
  {
   "cell_type": "code",
   "execution_count": 7,
   "metadata": {},
   "outputs": [],
   "source": [
    "def index_list(no_given):\n",
    "    indexlist = []\n",
    "    sim_byindex = genre_n_similarity[1:no_given+1].index\n",
    "    for i in range(0, no_given):\n",
    "        indexlist.append(int(sim_byindex[i]))\n",
    "    return indexlist"
   ]
  },
  {
   "cell_type": "markdown",
   "metadata": {},
   "source": [
    "Function to take user input as no. of genres to recommend"
   ]
  },
  {
   "cell_type": "code",
   "execution_count": 8,
   "metadata": {},
   "outputs": [],
   "source": [
    "def select_no_genres():\n",
    "    f1 = input(\"Please select the number of genres you would like: \")\n",
    "    while True:\n",
    "        if not f1.isnumeric():\n",
    "            f1 = input(\"Please enter a positive numeric value: \")\n",
    "        else:\n",
    "            break\n",
    "    f1 = int(f1)        \n",
    "    return f1"
   ]
  },
  {
   "cell_type": "markdown",
   "metadata": {},
   "source": [
    "Function to take user input as selected genre"
   ]
  },
  {
   "cell_type": "code",
   "execution_count": 9,
   "metadata": {},
   "outputs": [],
   "source": [
    "def select_genre():\n",
    "    genre_in = input(\"Please enter a genre to receive recommendations: \")\n",
    "    genre_in = genre_in.replace(\" \", \"\").lower()\n",
    "    while True:\n",
    "        if genre_in not in genre_DF['genres'].tolist():\n",
    "            genre_in = input(\"Please enter a valid genre: \")\n",
    "            genre_in = genre_in.replace(\" \", \"\").lower()\n",
    "        else:\n",
    "            break   \n",
    "    return genre_in"
   ]
  },
  {
   "cell_type": "markdown",
   "metadata": {},
   "source": [
    "Here is where the user inputs desired genre and no. to receive recommendations"
   ]
  },
  {
   "cell_type": "code",
   "execution_count": 11,
   "metadata": {},
   "outputs": [
    {
     "name": "stdout",
     "output_type": "stream",
     "text": [
      "Please enter a genre to receive recommendations: Art pop\n",
      "Please select the number of genres you would like: 12\n",
      "Here are 12 similar genres you might like: ['experimental pop', 'alternative americana', 'freak folk', 'south carolina indie', 'etherpop', 'bubblegrunge', 'gothenburg indie', 'idol', 'indie pop', 'stomp and holler', 'olympia wa indie', 'lo-fi emo']\n"
     ]
    }
   ],
   "source": [
    "genre = select_genre()\n",
    "no_given = select_no_genres()\n",
    "\n",
    "genre_n_similarity = similarity()\n",
    "indexlist = index_list(no_given)\n",
    "print('Here are ' + str(no_given) + ' similar genres you might like: ' + str(genre_df.loc[indexlist]['genres'].tolist()))"
   ]
  },
  {
   "cell_type": "code",
   "execution_count": null,
   "metadata": {},
   "outputs": [],
   "source": []
  }
 ],
 "metadata": {
  "kernelspec": {
   "display_name": "Python 3",
   "language": "python",
   "name": "python3"
  },
  "language_info": {
   "codemirror_mode": {
    "name": "ipython",
    "version": 3
   },
   "file_extension": ".py",
   "mimetype": "text/x-python",
   "name": "python",
   "nbconvert_exporter": "python",
   "pygments_lexer": "ipython3",
   "version": "3.5.6"
  }
 },
 "nbformat": 4,
 "nbformat_minor": 4
}
